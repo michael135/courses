{
 "cells": [
  {
   "cell_type": "code",
   "execution_count": 1,
   "metadata": {
    "collapsed": true
   },
   "outputs": [],
   "source": [
    "from theano.sandbox import cuda"
   ]
  },
  {
   "cell_type": "code",
   "execution_count": 12,
   "metadata": {},
   "outputs": [
    {
     "name": "stdout",
     "output_type": "stream",
     "text": [
      "Collecting bcolz\n",
      "  Downloading https://files.pythonhosted.org/packages/5c/4e/23942de9d5c0fb16f10335fa83e52b431bcb8c0d4a8419c9ac206268c279/bcolz-1.2.1.tar.gz (1.5MB)\n",
      "\u001b[K    100% |████████████████████████████████| 1.5MB 893kB/s eta 0:00:01\n",
      "\u001b[?25hRequirement already satisfied: numpy>=1.7 in /Users/mdymshits/virtualenv/ker12/lib/python2.7/site-packages (from bcolz)\n",
      "Building wheels for collected packages: bcolz\n",
      "  Running setup.py bdist_wheel for bcolz ... \u001b[?25ldone\n",
      "\u001b[?25h  Stored in directory: /Users/mdymshits/Library/Caches/pip/wheels/9f/78/26/fb8c0acb91a100dc8914bf236c4eaa4b207cb876893c40b745\n",
      "Successfully built bcolz\n",
      "Installing collected packages: bcolz\n",
      "Successfully installed bcolz-1.2.1\n",
      "\u001b[33mYou are using pip version 9.0.1, however version 18.1 is available.\n",
      "You should consider upgrading via the 'pip install --upgrade pip' command.\u001b[0m\n"
     ]
    }
   ],
   "source": [
    "!pip install bcolz\n",
    "\n",
    "\n"
   ]
  },
  {
   "cell_type": "code",
   "execution_count": 14,
   "metadata": {},
   "outputs": [
    {
     "name": "stderr",
     "output_type": "stream",
     "text": [
      "Using Theano backend.\n"
     ]
    }
   ],
   "source": [
    "%matplotlib inline\n",
    "import os\n",
    "import utils; reload(utils)\n",
    "from utils import *\n",
    "from __future__ import division, print_function"
   ]
  },
  {
   "cell_type": "code",
   "execution_count": 19,
   "metadata": {
    "collapsed": true
   },
   "outputs": [],
   "source": [
    "#path = \"data/ml-20m/\"\n",
    "path = \"/Users/mdymshits/fastai/data/ml-latest-small/\"\n",
    "model_path = path + 'models'\n",
    "if not os.path.exists(model_path):\n",
    "    os.mkdir(model_path)\n",
    "batch_size=64"
   ]
  },
  {
   "cell_type": "code",
   "execution_count": 22,
   "metadata": {
    "scrolled": true
   },
   "outputs": [
    {
     "name": "stdout",
     "output_type": "stream",
     "text": [
      "README.txt\r\n",
      "links.csv\r\n",
      "\u001b[34mmodels\u001b[m\u001b[m/\r\n",
      "movies.csv\r\n",
      "ratings.csv\r\n",
      "tags.csv\r\n"
     ]
    }
   ],
   "source": [
    "%ls -1 /Users/mdymshits/fastai/data/ml-latest-small/"
   ]
  },
  {
   "cell_type": "code",
   "execution_count": 25,
   "metadata": {},
   "outputs": [
    {
     "name": "stdout",
     "output_type": "stream",
     "text": [
      "userId,movieId,rating,timestamp\r",
      "\r\n",
      "1,1,4.0,964982703\r",
      "\r\n",
      "1,3,4.0,964981247\r",
      "\r\n",
      "1,6,4.0,964982224\r",
      "\r\n",
      "1,47,5.0,964983815\r",
      "\r\n",
      "1,50,5.0,964982931\r",
      "\r\n",
      "1,70,3.0,964982400\r",
      "\r\n",
      "1,101,5.0,964980868\r",
      "\r\n",
      "1,110,4.0,964982176\r",
      "\r\n",
      "1,151,5.0,964984041\r",
      "\r\n"
     ]
    }
   ],
   "source": [
    "!head -10 /Users/mdymshits/fastai/data/ml-latest-small/ratings.csv"
   ]
  },
  {
   "cell_type": "markdown",
   "metadata": {
    "heading_collapsed": true
   },
   "source": [
    "## Set up data"
   ]
  },
  {
   "cell_type": "markdown",
   "metadata": {
    "hidden": true
   },
   "source": [
    "We're working with the movielens data, which contains one rating per row, like this:"
   ]
  },
  {
   "cell_type": "code",
   "execution_count": 26,
   "metadata": {
    "hidden": true,
    "scrolled": true
   },
   "outputs": [
    {
     "data": {
      "text/html": [
       "<div>\n",
       "<style>\n",
       "    .dataframe thead tr:only-child th {\n",
       "        text-align: right;\n",
       "    }\n",
       "\n",
       "    .dataframe thead th {\n",
       "        text-align: left;\n",
       "    }\n",
       "\n",
       "    .dataframe tbody tr th {\n",
       "        vertical-align: top;\n",
       "    }\n",
       "</style>\n",
       "<table border=\"1\" class=\"dataframe\">\n",
       "  <thead>\n",
       "    <tr style=\"text-align: right;\">\n",
       "      <th></th>\n",
       "      <th>userId</th>\n",
       "      <th>movieId</th>\n",
       "      <th>rating</th>\n",
       "      <th>timestamp</th>\n",
       "    </tr>\n",
       "  </thead>\n",
       "  <tbody>\n",
       "    <tr>\n",
       "      <th>0</th>\n",
       "      <td>1</td>\n",
       "      <td>1</td>\n",
       "      <td>4.0</td>\n",
       "      <td>964982703</td>\n",
       "    </tr>\n",
       "    <tr>\n",
       "      <th>1</th>\n",
       "      <td>1</td>\n",
       "      <td>3</td>\n",
       "      <td>4.0</td>\n",
       "      <td>964981247</td>\n",
       "    </tr>\n",
       "    <tr>\n",
       "      <th>2</th>\n",
       "      <td>1</td>\n",
       "      <td>6</td>\n",
       "      <td>4.0</td>\n",
       "      <td>964982224</td>\n",
       "    </tr>\n",
       "    <tr>\n",
       "      <th>3</th>\n",
       "      <td>1</td>\n",
       "      <td>47</td>\n",
       "      <td>5.0</td>\n",
       "      <td>964983815</td>\n",
       "    </tr>\n",
       "    <tr>\n",
       "      <th>4</th>\n",
       "      <td>1</td>\n",
       "      <td>50</td>\n",
       "      <td>5.0</td>\n",
       "      <td>964982931</td>\n",
       "    </tr>\n",
       "  </tbody>\n",
       "</table>\n",
       "</div>"
      ],
      "text/plain": [
       "   userId  movieId  rating  timestamp\n",
       "0       1        1     4.0  964982703\n",
       "1       1        3     4.0  964981247\n",
       "2       1        6     4.0  964982224\n",
       "3       1       47     5.0  964983815\n",
       "4       1       50     5.0  964982931"
      ]
     },
     "execution_count": 26,
     "metadata": {},
     "output_type": "execute_result"
    }
   ],
   "source": [
    "ratings = pd.read_csv(path+'ratings.csv')\n",
    "ratings.head()"
   ]
  },
  {
   "cell_type": "code",
   "execution_count": 27,
   "metadata": {
    "hidden": true
   },
   "outputs": [
    {
     "data": {
      "text/plain": [
       "100836"
      ]
     },
     "execution_count": 27,
     "metadata": {},
     "output_type": "execute_result"
    }
   ],
   "source": [
    "len(ratings)"
   ]
  },
  {
   "cell_type": "markdown",
   "metadata": {
    "hidden": true
   },
   "source": [
    "Just for display purposes, let's read in the movie names too."
   ]
  },
  {
   "cell_type": "code",
   "execution_count": 38,
   "metadata": {},
   "outputs": [
    {
     "data": {
      "text/html": [
       "<div>\n",
       "<style>\n",
       "    .dataframe thead tr:only-child th {\n",
       "        text-align: right;\n",
       "    }\n",
       "\n",
       "    .dataframe thead th {\n",
       "        text-align: left;\n",
       "    }\n",
       "\n",
       "    .dataframe tbody tr th {\n",
       "        vertical-align: top;\n",
       "    }\n",
       "</style>\n",
       "<table border=\"1\" class=\"dataframe\">\n",
       "  <thead>\n",
       "    <tr style=\"text-align: right;\">\n",
       "      <th></th>\n",
       "      <th>movieId</th>\n",
       "      <th>title</th>\n",
       "      <th>genres</th>\n",
       "    </tr>\n",
       "  </thead>\n",
       "  <tbody>\n",
       "    <tr>\n",
       "      <th>0</th>\n",
       "      <td>1</td>\n",
       "      <td>Toy Story (1995)</td>\n",
       "      <td>Adventure|Animation|Children|Comedy|Fantasy</td>\n",
       "    </tr>\n",
       "    <tr>\n",
       "      <th>1</th>\n",
       "      <td>2</td>\n",
       "      <td>Jumanji (1995)</td>\n",
       "      <td>Adventure|Children|Fantasy</td>\n",
       "    </tr>\n",
       "    <tr>\n",
       "      <th>2</th>\n",
       "      <td>3</td>\n",
       "      <td>Grumpier Old Men (1995)</td>\n",
       "      <td>Comedy|Romance</td>\n",
       "    </tr>\n",
       "    <tr>\n",
       "      <th>3</th>\n",
       "      <td>4</td>\n",
       "      <td>Waiting to Exhale (1995)</td>\n",
       "      <td>Comedy|Drama|Romance</td>\n",
       "    </tr>\n",
       "    <tr>\n",
       "      <th>4</th>\n",
       "      <td>5</td>\n",
       "      <td>Father of the Bride Part II (1995)</td>\n",
       "      <td>Comedy</td>\n",
       "    </tr>\n",
       "    <tr>\n",
       "      <th>5</th>\n",
       "      <td>6</td>\n",
       "      <td>Heat (1995)</td>\n",
       "      <td>Action|Crime|Thriller</td>\n",
       "    </tr>\n",
       "    <tr>\n",
       "      <th>6</th>\n",
       "      <td>7</td>\n",
       "      <td>Sabrina (1995)</td>\n",
       "      <td>Comedy|Romance</td>\n",
       "    </tr>\n",
       "    <tr>\n",
       "      <th>7</th>\n",
       "      <td>8</td>\n",
       "      <td>Tom and Huck (1995)</td>\n",
       "      <td>Adventure|Children</td>\n",
       "    </tr>\n",
       "    <tr>\n",
       "      <th>8</th>\n",
       "      <td>9</td>\n",
       "      <td>Sudden Death (1995)</td>\n",
       "      <td>Action</td>\n",
       "    </tr>\n",
       "    <tr>\n",
       "      <th>9</th>\n",
       "      <td>10</td>\n",
       "      <td>GoldenEye (1995)</td>\n",
       "      <td>Action|Adventure|Thriller</td>\n",
       "    </tr>\n",
       "  </tbody>\n",
       "</table>\n",
       "</div>"
      ],
      "text/plain": [
       "   movieId                               title  \\\n",
       "0        1                    Toy Story (1995)   \n",
       "1        2                      Jumanji (1995)   \n",
       "2        3             Grumpier Old Men (1995)   \n",
       "3        4            Waiting to Exhale (1995)   \n",
       "4        5  Father of the Bride Part II (1995)   \n",
       "5        6                         Heat (1995)   \n",
       "6        7                      Sabrina (1995)   \n",
       "7        8                 Tom and Huck (1995)   \n",
       "8        9                 Sudden Death (1995)   \n",
       "9       10                    GoldenEye (1995)   \n",
       "\n",
       "                                        genres  \n",
       "0  Adventure|Animation|Children|Comedy|Fantasy  \n",
       "1                   Adventure|Children|Fantasy  \n",
       "2                               Comedy|Romance  \n",
       "3                         Comedy|Drama|Romance  \n",
       "4                                       Comedy  \n",
       "5                        Action|Crime|Thriller  \n",
       "6                               Comedy|Romance  \n",
       "7                           Adventure|Children  \n",
       "8                                       Action  \n",
       "9                    Action|Adventure|Thriller  "
      ]
     },
     "execution_count": 38,
     "metadata": {},
     "output_type": "execute_result"
    }
   ],
   "source": [
    "pd.read_csv(path+'movies.csv').head(10)"
   ]
  },
  {
   "cell_type": "code",
   "execution_count": 30,
   "metadata": {
    "collapsed": true,
    "hidden": true
   },
   "outputs": [],
   "source": [
    "movie_names = pd.read_csv(path+'movies.csv').set_index('movieId')['title'].to_dict()"
   ]
  },
  {
   "cell_type": "code",
   "execution_count": 31,
   "metadata": {},
   "outputs": [
    {
     "data": {
      "text/plain": [
       "{1: 'Toy Story (1995)',\n",
       " 2: 'Jumanji (1995)',\n",
       " 3: 'Grumpier Old Men (1995)',\n",
       " 4: 'Waiting to Exhale (1995)',\n",
       " 5: 'Father of the Bride Part II (1995)',\n",
       " 6: 'Heat (1995)',\n",
       " 7: 'Sabrina (1995)',\n",
       " 8: 'Tom and Huck (1995)',\n",
       " 9: 'Sudden Death (1995)',\n",
       " 10: 'GoldenEye (1995)',\n",
       " 11: 'American President, The (1995)',\n",
       " 12: 'Dracula: Dead and Loving It (1995)',\n",
       " 13: 'Balto (1995)',\n",
       " 14: 'Nixon (1995)',\n",
       " 15: 'Cutthroat Island (1995)',\n",
       " 16: 'Casino (1995)',\n",
       " 17: 'Sense and Sensibility (1995)',\n",
       " 18: 'Four Rooms (1995)',\n",
       " 19: 'Ace Ventura: When Nature Calls (1995)',\n",
       " 20: 'Money Train (1995)',\n",
       " 21: 'Get Shorty (1995)',\n",
       " 22: 'Copycat (1995)',\n",
       " 23: 'Assassins (1995)',\n",
       " 24: 'Powder (1995)',\n",
       " 25: 'Leaving Las Vegas (1995)',\n",
       " 26: 'Othello (1995)',\n",
       " 27: 'Now and Then (1995)',\n",
       " 28: 'Persuasion (1995)',\n",
       " 29: 'City of Lost Children, The (Cit\\xc3\\xa9 des enfants perdus, La) (1995)',\n",
       " 30: 'Shanghai Triad (Yao a yao yao dao waipo qiao) (1995)',\n",
       " 31: 'Dangerous Minds (1995)',\n",
       " 32: 'Twelve Monkeys (a.k.a. 12 Monkeys) (1995)',\n",
       " 34: 'Babe (1995)',\n",
       " 36: 'Dead Man Walking (1995)',\n",
       " 38: 'It Takes Two (1995)',\n",
       " 39: 'Clueless (1995)',\n",
       " 40: 'Cry, the Beloved Country (1995)',\n",
       " 41: 'Richard III (1995)',\n",
       " 42: 'Dead Presidents (1995)',\n",
       " 43: 'Restoration (1995)',\n",
       " 44: 'Mortal Kombat (1995)',\n",
       " 45: 'To Die For (1995)',\n",
       " 46: 'How to Make an American Quilt (1995)',\n",
       " 47: 'Seven (a.k.a. Se7en) (1995)',\n",
       " 48: 'Pocahontas (1995)',\n",
       " 49: 'When Night Is Falling (1995)',\n",
       " 50: 'Usual Suspects, The (1995)',\n",
       " 52: 'Mighty Aphrodite (1995)',\n",
       " 53: 'Lamerica (1994)',\n",
       " 54: 'Big Green, The (1995)',\n",
       " 55: 'Georgia (1995)',\n",
       " 57: 'Home for the Holidays (1995)',\n",
       " 58: 'Postman, The (Postino, Il) (1994)',\n",
       " 60: 'Indian in the Cupboard, The (1995)',\n",
       " 61: 'Eye for an Eye (1996)',\n",
       " 62: \"Mr. Holland's Opus (1995)\",\n",
       " 63: \"Don't Be a Menace to South Central While Drinking Your Juice in the Hood (1996)\",\n",
       " 64: 'Two if by Sea (1996)',\n",
       " 65: 'Bio-Dome (1996)',\n",
       " 66: 'Lawnmower Man 2: Beyond Cyberspace (1996)',\n",
       " 68: 'French Twist (Gazon maudit) (1995)',\n",
       " 69: 'Friday (1995)',\n",
       " 70: 'From Dusk Till Dawn (1996)',\n",
       " 71: 'Fair Game (1995)',\n",
       " 72: 'Kicking and Screaming (1995)',\n",
       " 73: 'Mis\\xc3\\xa9rables, Les (1995)',\n",
       " 74: 'Bed of Roses (1996)',\n",
       " 75: 'Big Bully (1996)',\n",
       " 76: 'Screamers (1995)',\n",
       " 77: 'Nico Icon (1995)',\n",
       " 78: 'Crossing Guard, The (1995)',\n",
       " 79: 'Juror, The (1996)',\n",
       " 80: 'White Balloon, The (Badkonake sefid) (1995)',\n",
       " 81: \"Things to Do in Denver When You're Dead (1995)\",\n",
       " 82: \"Antonia's Line (Antonia) (1995)\",\n",
       " 83: 'Once Upon a Time... When We Were Colored (1995)',\n",
       " 85: 'Angels and Insects (1995)',\n",
       " 86: 'White Squall (1996)',\n",
       " 87: 'Dunston Checks In (1996)',\n",
       " 88: 'Black Sheep (1996)',\n",
       " 89: 'Nick of Time (1995)',\n",
       " 92: 'Mary Reilly (1996)',\n",
       " 93: 'Vampire in Brooklyn (1995)',\n",
       " 94: 'Beautiful Girls (1996)',\n",
       " 95: 'Broken Arrow (1996)',\n",
       " 96: 'In the Bleak Midwinter (1995)',\n",
       " 97: 'Hate (Haine, La) (1995)',\n",
       " 99: 'Heidi Fleiss: Hollywood Madam (1995)',\n",
       " 100: 'City Hall (1996)',\n",
       " 101: 'Bottle Rocket (1996)',\n",
       " 102: 'Mr. Wrong (1996)',\n",
       " 103: 'Unforgettable (1996)',\n",
       " 104: 'Happy Gilmore (1996)',\n",
       " 105: 'Bridges of Madison County, The (1995)',\n",
       " 106: 'Nobody Loves Me (Keiner liebt mich) (1994)',\n",
       " 107: 'Muppet Treasure Island (1996)',\n",
       " 108: 'Catwalk (1996)',\n",
       " 110: 'Braveheart (1995)',\n",
       " 111: 'Taxi Driver (1976)',\n",
       " 112: 'Rumble in the Bronx (Hont faan kui) (1995)',\n",
       " 113: 'Before and After (1996)',\n",
       " 65651: 'Fire and Ice (2008)',\n",
       " 116: 'Anne Frank Remembered (1995)',\n",
       " 117: \"Young Poisoner's Handbook, The (1995)\",\n",
       " 118: 'If Lucy Fell (1996)',\n",
       " 119: 'Steal Big, Steal Little (1995)',\n",
       " 121: 'Boys of St. Vincent, The (1992)',\n",
       " 122: 'Boomerang (1992)',\n",
       " 123: 'Chungking Express (Chung Hing sam lam) (1994)',\n",
       " 32892: \"Ivan's Childhood (a.k.a. My Name is Ivan) (Ivanovo detstvo) (1962)\",\n",
       " 125: 'Flirting With Disaster (1996)',\n",
       " 126: 'NeverEnding Story III, The (1994)',\n",
       " 128: \"Jupiter's Wife (1994)\",\n",
       " 129: 'Pie in the Sky (1996)',\n",
       " 32898: 'Trip to the Moon, A (Voyage dans la lune, Le) (1902)',\n",
       " 132: 'Jade (1995)',\n",
       " 135: 'Down Periscope (1996)',\n",
       " 137: 'Man of the Year (1995)',\n",
       " 32906: 'Ascent, The (Voskhozhdeniye) (1977)',\n",
       " 140: 'Up Close and Personal (1996)',\n",
       " 141: 'Birdcage, The (1996)',\n",
       " 144: 'Brothers McMullen, The (1995)',\n",
       " 145: 'Bad Boys (1995)',\n",
       " 146: 'Amazing Panda Adventure, The (1995)',\n",
       " 147: 'Basketball Diaries, The (1995)',\n",
       " 148: 'Awfully Big Adventure, An (1995)',\n",
       " 149: 'Amateur (1994)',\n",
       " 150: 'Apollo 13 (1995)',\n",
       " 151: 'Rob Roy (1995)',\n",
       " 152: 'Addiction, The (1995)',\n",
       " 153: 'Batman Forever (1995)',\n",
       " 154: 'Beauty of the Day (Belle de jour) (1967)',\n",
       " 155: 'Beyond Rangoon (1995)',\n",
       " 156: 'Blue in the Face (1995)',\n",
       " 157: 'Canadian Bacon (1995)',\n",
       " 158: 'Casper (1995)',\n",
       " 159: 'Clockers (1995)',\n",
       " 160: 'Congo (1995)',\n",
       " 161: 'Crimson Tide (1995)',\n",
       " 162: 'Crumb (1994)',\n",
       " 163: 'Desperado (1995)',\n",
       " 164: 'Devil in a Blue Dress (1995)',\n",
       " 165: 'Die Hard: With a Vengeance (1995)',\n",
       " 166: 'Doom Generation, The (1995)',\n",
       " 168: 'First Knight (1995)',\n",
       " 169: 'Free Willy 2: The Adventure Home (1995)',\n",
       " 170: 'Hackers (1995)',\n",
       " 171: 'Jeffrey (1995)',\n",
       " 172: 'Johnny Mnemonic (1995)',\n",
       " 173: 'Judge Dredd (1995)',\n",
       " 174: 'Jury Duty (1995)',\n",
       " 175: 'Kids (1995)',\n",
       " 176: 'Living in Oblivion (1995)',\n",
       " 177: 'Lord of Illusions (1995)',\n",
       " 178: 'Love & Human Remains (1993)',\n",
       " 179: 'Mad Love (1995)',\n",
       " 180: 'Mallrats (1995)',\n",
       " 181: 'Mighty Morphin Power Rangers: The Movie (1995)',\n",
       " 183: 'Mute Witness (1994)',\n",
       " 184: 'Nadja (1994)',\n",
       " 185: 'Net, The (1995)',\n",
       " 186: 'Nine Months (1995)',\n",
       " 187: 'Party Girl (1995)',\n",
       " 188: 'Prophecy, The (1995)',\n",
       " 189: 'Reckless (1995)',\n",
       " 190: 'Safe (1995)',\n",
       " 191: 'Scarlet Letter, The (1995)',\n",
       " 193: 'Showgirls (1995)',\n",
       " 194: 'Smoke (1995)',\n",
       " 195: 'Something to Talk About (1995)',\n",
       " 196: 'Species (1995)',\n",
       " 198: 'Strange Days (1995)',\n",
       " 199: 'Umbrellas of Cherbourg, The (Parapluies de Cherbourg, Les) (1964)',\n",
       " 201: 'Three Wishes (1995)',\n",
       " 202: 'Total Eclipse (1995)',\n",
       " 203: 'To Wong Foo, Thanks for Everything! Julie Newmar (1995)',\n",
       " 204: 'Under Siege 2: Dark Territory (1995)',\n",
       " 205: 'Unstrung Heroes (1995)',\n",
       " 206: 'Unzipped (1995)',\n",
       " 207: 'Walk in the Clouds, A (1995)',\n",
       " 208: 'Waterworld (1995)',\n",
       " 209: \"White Man's Burden (1995)\",\n",
       " 210: 'Wild Bill (1995)',\n",
       " 211: 'Browning Version, The (1994)',\n",
       " 212: 'Bushwhacked (1995)',\n",
       " 213: 'Burnt by the Sun (Utomlyonnye solntsem) (1994)',\n",
       " 214: 'Before the Rain (Pred dozhdot) (1994)',\n",
       " 215: 'Before Sunrise (1995)',\n",
       " 216: 'Billy Madison (1995)',\n",
       " 217: 'Babysitter, The (1995)',\n",
       " 218: 'Boys on the Side (1995)',\n",
       " 219: 'Cure, The (1995)',\n",
       " 220: 'Castle Freak (1995)',\n",
       " 222: 'Circle of Friends (1995)',\n",
       " 223: 'Clerks (1994)',\n",
       " 224: 'Don Juan DeMarco (1995)',\n",
       " 225: 'Disclosure (1994)',\n",
       " 227: 'Drop Zone (1994)',\n",
       " 228: 'Destiny Turns on the Radio (1995)',\n",
       " 229: 'Death and the Maiden (1994)',\n",
       " 230: 'Dolores Claiborne (1995)',\n",
       " 231: 'Dumb & Dumber (Dumb and Dumber) (1994)',\n",
       " 232: 'Eat Drink Man Woman (Yin shi nan nu) (1994)',\n",
       " 233: 'Exotica (1994)',\n",
       " 234: 'Exit to Eden (1994)',\n",
       " 235: 'Ed Wood (1994)',\n",
       " 236: 'French Kiss (1995)',\n",
       " 237: 'Forget Paris (1995)',\n",
       " 238: 'Far From Home: The Adventures of Yellow Dog (1995)',\n",
       " 239: 'Goofy Movie, A (1995)',\n",
       " 240: 'Hideaway (1995)',\n",
       " 241: 'Fluke (1995)',\n",
       " 242: 'Farinelli: il castrato (1994)',\n",
       " 243: 'Gordy (1995)',\n",
       " 246: 'Hoop Dreams (1994)',\n",
       " 247: 'Heavenly Creatures (1994)',\n",
       " 248: 'Houseguest (1994)',\n",
       " 249: 'Immortal Beloved (1994)',\n",
       " 250: 'Heavyweights (Heavy Weights) (1995)',\n",
       " 251: 'Hunted, The (1995)',\n",
       " 252: 'I.Q. (1994)',\n",
       " 253: 'Interview with the Vampire: The Vampire Chronicles (1994)',\n",
       " 254: 'Jefferson in Paris (1995)',\n",
       " 255: 'Jerky Boys, The (1995)',\n",
       " 256: 'Junior (1994)',\n",
       " 257: 'Just Cause (1995)',\n",
       " 258: \"Kid in King Arthur's Court, A (1995)\",\n",
       " 259: 'Kiss of Death (1995)',\n",
       " 260: 'Star Wars: Episode IV - A New Hope (1977)',\n",
       " 261: 'Little Women (1994)',\n",
       " 262: 'Little Princess, A (1995)',\n",
       " 263: 'Ladybird Ladybird (1994)',\n",
       " 265: 'Like Water for Chocolate (Como agua para chocolate) (1992)',\n",
       " 266: 'Legends of the Fall (1994)',\n",
       " 267: 'Major Payne (1995)',\n",
       " 269: 'My Crazy Life (Mi vida loca) (1993)',\n",
       " 270: 'Love Affair (1994)',\n",
       " 271: 'Losing Isaiah (1995)',\n",
       " 272: 'Madness of King George, The (1994)',\n",
       " 273: \"Mary Shelley's Frankenstein (Frankenstein) (1994)\",\n",
       " 274: 'Man of the House (1995)',\n",
       " 275: 'Mixed Nuts (1994)',\n",
       " 276: 'Milk Money (1994)',\n",
       " 277: 'Miracle on 34th Street (1994)',\n",
       " 278: 'Miami Rhapsody (1995)',\n",
       " 279: 'My Family (1995)',\n",
       " 280: 'Murder in the First (1995)',\n",
       " 281: \"Nobody's Fool (1994)\",\n",
       " 282: 'Nell (1994)',\n",
       " 283: 'New Jersey Drive (1995)',\n",
       " 284: 'New York Cop (Ny\\xc3\\xbb Y\\xc3\\xb4ku no koppu) (1993)',\n",
       " 285: 'Beyond Bedlam (1993)',\n",
       " 287: 'Nina Takes a Lover (1994)',\n",
       " 288: 'Natural Born Killers (1994)',\n",
       " 289: 'Only You (1994)',\n",
       " 290: 'Once Were Warriors (1994)',\n",
       " 291: 'Poison Ivy II (1996)',\n",
       " 292: 'Outbreak (1995)',\n",
       " 293: 'L\\xc3\\xa9on: The Professional (a.k.a. The Professional) (L\\xc3\\xa9on) (1994)',\n",
       " 294: 'Perez Family, The (1995)',\n",
       " 295: \"Pyromaniac's Love Story, A (1995)\",\n",
       " 296: 'Pulp Fiction (1994)',\n",
       " 298: 'Pushing Hands (Tui shou) (1992)',\n",
       " 299: 'Priest (1994)',\n",
       " 300: 'Quiz Show (1994)',\n",
       " 301: 'Picture Bride (Bijo photo) (1994)',\n",
       " 302: 'Queen Margot (Reine Margot, La) (1994)',\n",
       " 303: 'Quick and the Dead, The (1995)',\n",
       " 304: 'Roommates (1995)',\n",
       " 305: 'Ready to Wear (Pret-A-Porter) (1994)',\n",
       " 306: 'Three Colors: Red (Trois couleurs: Rouge) (1994)',\n",
       " 307: 'Three Colors: Blue (Trois couleurs: Bleu) (1993)',\n",
       " 308: 'Three Colors: White (Trzy kolory: Bialy) (1994)',\n",
       " 310: 'Rent-a-Kid (1995)',\n",
       " 311: 'Relative Fear (1994)',\n",
       " 312: 'Stuart Saves His Family (1995)',\n",
       " 313: 'Swan Princess, The (1994)',\n",
       " 314: 'Secret of Roan Inish, The (1994)',\n",
       " 315: 'Specialist, The (1994)',\n",
       " 316: 'Stargate (1994)',\n",
       " 317: 'Santa Clause, The (1994)',\n",
       " 318: 'Shawshank Redemption, The (1994)',\n",
       " 319: 'Shallow Grave (1994)',\n",
       " 320: 'Suture (1993)',\n",
       " 321: 'Strawberry and Chocolate (Fresa y chocolate) (1993)',\n",
       " 322: 'Swimming with Sharks (1995)',\n",
       " 103819: 'Coffee Town (2013)',\n",
       " 324: 'Sum of Us, The (1994)',\n",
       " 325: \"National Lampoon's Senior Trip (1995)\",\n",
       " 326: 'To Live (Huozhe) (1994)',\n",
       " 327: 'Tank Girl (1995)',\n",
       " 328: 'Tales from the Crypt Presents: Demon Knight (1995)',\n",
       " 329: 'Star Trek: Generations (1994)',\n",
       " 330: 'Tales from the Hood (1995)',\n",
       " 331: 'Tom & Viv (1994)',\n",
       " 332: 'Village of the Damned (1995)',\n",
       " 333: 'Tommy Boy (1995)',\n",
       " 334: 'Vanya on 42nd Street (1994)',\n",
       " 335: 'Underneath (1995)',\n",
       " 336: 'Walking Dead, The (1995)',\n",
       " 337: \"What's Eating Gilbert Grape (1993)\",\n",
       " 338: 'Virtuosity (1995)',\n",
       " 339: 'While You Were Sleeping (1995)',\n",
       " 340: 'War, The (1994)',\n",
       " 341: 'Double Happiness (1994)',\n",
       " 342: \"Muriel's Wedding (1994)\",\n",
       " 343: 'Baby-Sitters Club, The (1995)',\n",
       " 344: 'Ace Ventura: Pet Detective (1994)',\n",
       " 345: 'Adventures of Priscilla, Queen of the Desert, The (1994)',\n",
       " 346: 'Backbeat (1993)',\n",
       " 347: 'Bitter Moon (1992)',\n",
       " 348: 'Bullets Over Broadway (1994)',\n",
       " 349: 'Clear and Present Danger (1994)',\n",
       " 350: 'Client, The (1994)',\n",
       " 351: 'Corrina, Corrina (1994)',\n",
       " 352: 'Crooklyn (1994)',\n",
       " 353: 'Crow, The (1994)',\n",
       " 354: 'Cobb (1994)',\n",
       " 355: 'Flintstones, The (1994)',\n",
       " 356: 'Forrest Gump (1994)',\n",
       " 357: 'Four Weddings and a Funeral (1994)',\n",
       " 358: 'Higher Learning (1995)',\n",
       " 359: 'I Like It Like That (1994)',\n",
       " 360: 'I Love Trouble (1994)',\n",
       " 361: 'It Could Happen to You (1994)',\n",
       " 362: 'Jungle Book, The (1994)',\n",
       " 363: 'Wonderful, Horrible Life of Leni Riefenstahl, The (Macht der Bilder: Leni Riefenstahl, Die) (1993)',\n",
       " 364: 'Lion King, The (1994)',\n",
       " 365: 'Little Buddha (1993)',\n",
       " 366: \"Wes Craven's New Nightmare (Nightmare on Elm Street Part 7: Freddy's Finale, A) (1994)\",\n",
       " 367: 'Mask, The (1994)',\n",
       " 368: 'Maverick (1994)',\n",
       " 369: 'Mrs. Parker and the Vicious Circle (1994)',\n",
       " 370: 'Naked Gun 33 1/3: The Final Insult (1994)',\n",
       " 371: 'Paper, The (1994)',\n",
       " 372: 'Reality Bites (1994)',\n",
       " 373: 'Red Rock West (1992)',\n",
       " 374: 'Richie Rich (1994)',\n",
       " 376: 'River Wild, The (1994)',\n",
       " 377: 'Speed (1994)',\n",
       " 378: 'Speechless (1994)',\n",
       " 379: 'Timecop (1994)',\n",
       " 380: 'True Lies (1994)',\n",
       " 381: 'When a Man Loves a Woman (1994)',\n",
       " 382: 'Wolf (1994)',\n",
       " 383: 'Wyatt Earp (1994)',\n",
       " 384: 'Bad Company (1995)',\n",
       " 385: 'Man of No Importance, A (1994)',\n",
       " 386: 'S.F.W. (1994)',\n",
       " 387: 'Low Down Dirty Shame, A (1994)',\n",
       " 388: 'Boys Life (1995)',\n",
       " 389: 'Colonel Chabert, Le (1994)',\n",
       " 390: 'Faster Pussycat! Kill! Kill! (1965)',\n",
       " 391: \"Jason's Lyric (1994)\",\n",
       " 393: 'Street Fighter (1994)',\n",
       " 33162: 'Kingdom of Heaven (2005)',\n",
       " 33164: 'House of Wax (2005)',\n",
       " 33166: 'Crash (2004)',\n",
       " 60141: \"St. Trinian's (2007)\",\n",
       " 33171: 'Mysterious Skin (2004)',\n",
       " 405: 'Highlander III: The Sorcerer (a.k.a. Highlander: The Final Dimension) (1994)',\n",
       " 406: 'Federal Hill (1994)',\n",
       " 407: 'In the Mouth of Madness (1995)',\n",
       " 408: '8 Seconds (1994)',\n",
       " 409: 'Above the Rim (1994)',\n",
       " 410: 'Addams Family Values (1993)',\n",
       " 412: 'Age of Innocence, The (1993)',\n",
       " 413: 'Airheads (1994)',\n",
       " 414: 'Air Up There, The (1994)',\n",
       " 415: 'Another Stakeout (1993)',\n",
       " 416: 'Bad Girls (1994)',\n",
       " 417: 'Barcelona (1994)',\n",
       " 418: 'Being Human (1993)',\n",
       " 419: 'Beverly Hillbillies, The (1993)',\n",
       " 420: 'Beverly Hills Cop III (1994)',\n",
       " 421: 'Black Beauty (1994)',\n",
       " 422: 'Blink (1994)',\n",
       " 423: 'Blown Away (1994)',\n",
       " 424: 'Blue Chips (1994)',\n",
       " 425: 'Blue Sky (1994)',\n",
       " 426: 'Body Snatchers (1993)',\n",
       " 427: 'Boxing Helena (1993)',\n",
       " 428: 'Bronx Tale, A (1993)',\n",
       " 429: 'Cabin Boy (1994)',\n",
       " 430: 'Calendar Girl (1993)',\n",
       " 431: \"Carlito's Way (1993)\",\n",
       " 432: \"City Slickers II: The Legend of Curly's Gold (1994)\",\n",
       " 433: 'Clean Slate (1994)',\n",
       " 434: 'Cliffhanger (1993)',\n",
       " 435: 'Coneheads (1993)',\n",
       " 436: 'Color of Night (1994)',\n",
       " 437: 'Cops and Robbersons (1994)',\n",
       " 438: 'Cowboy Way, The (1994)',\n",
       " 440: 'Dave (1993)',\n",
       " 441: 'Dazed and Confused (1993)',\n",
       " 442: 'Demolition Man (1993)',\n",
       " 444: 'Even Cowgirls Get the Blues (1993)',\n",
       " 445: 'Fatal Instinct (1993)',\n",
       " 446: 'Farewell My Concubine (Ba wang bie ji) (1993)',\n",
       " 448: 'Fearless (1993)',\n",
       " 449: 'Fear of a Black Hat (1994)',\n",
       " 450: 'With Honors (1994)',\n",
       " 451: 'Flesh and Bone (1993)',\n",
       " 452: \"Widows' Peak (1994)\",\n",
       " 453: 'For Love or Money (1993)',\n",
       " 454: 'Firm, The (1993)',\n",
       " 455: 'Free Willy (1993)',\n",
       " 456: 'Fresh (1994)',\n",
       " 457: 'Fugitive, The (1993)',\n",
       " 458: 'Geronimo: An American Legend (1993)',\n",
       " 459: 'Getaway, The (1994)',\n",
       " 460: 'Getting Even with Dad (1994)',\n",
       " 461: 'Go Fish (1994)',\n",
       " 464: 'Hard Target (1993)',\n",
       " 466: 'Hot Shots! Part Deux (1993)',\n",
       " 467: 'Live Nude Girls (1995)',\n",
       " 468: 'Englishman Who Went Up a Hill But Came Down a Mountain, The (1995)',\n",
       " 469: 'House of the Spirits, The (1993)',\n",
       " 470: 'House Party 3 (1994)',\n",
       " 471: 'Hudsucker Proxy, The (1994)',\n",
       " 472: \"I'll Do Anything (1994)\",\n",
       " 473: 'In the Army Now (1994)',\n",
       " 474: 'In the Line of Fire (1993)',\n",
       " 475: 'In the Name of the Father (1993)',\n",
       " 476: 'Inkwell, The (1994)',\n",
       " 477: \"What's Love Got to Do with It? (1993)\",\n",
       " 478: 'Jimmy Hollywood (1994)',\n",
       " 479: 'Judgment Night (1993)',\n",
       " 480: 'Jurassic Park (1993)',\n",
       " 481: 'Kalifornia (1993)',\n",
       " 482: 'Killing Zoe (1994)',\n",
       " 484: 'Lassie (1994)',\n",
       " 485: 'Last Action Hero (1993)',\n",
       " 486: 'Life with Mikey (1993)',\n",
       " 487: 'Lightning Jack (1994)',\n",
       " 488: 'M. Butterfly (1993)',\n",
       " 489: 'Made in America (1993)',\n",
       " 490: 'Malice (1993)',\n",
       " 491: 'Man Without a Face, The (1993)',\n",
       " 492: 'Manhattan Murder Mystery (1993)',\n",
       " 493: 'Menace II Society (1993)',\n",
       " 494: 'Executive Decision (1996)',\n",
       " 495: 'In the Realm of the Senses (Ai no corrida) (1976)',\n",
       " 496: 'What Happened Was... (1994)',\n",
       " 497: 'Much Ado About Nothing (1993)',\n",
       " 499: 'Mr. Wonderful (1993)',\n",
       " 500: 'Mrs. Doubtfire (1993)',\n",
       " 501: 'Naked (1993)',\n",
       " 502: 'Next Karate Kid, The (1994)',\n",
       " 504: 'No Escape (1994)',\n",
       " 505: 'North (1994)',\n",
       " 506: 'Orlando (1992)',\n",
       " 507: 'Perfect World, A (1993)',\n",
       " 508: 'Philadelphia (1993)',\n",
       " 509: 'Piano, The (1993)',\n",
       " 510: 'Poetic Justice (1993)',\n",
       " 511: 'Program, The (1993)',\n",
       " 512: 'Puppet Masters, The (1994)',\n",
       " 513: 'Radioland Murders (1994)',\n",
       " 514: 'Ref, The (1994)',\n",
       " 515: 'Remains of the Day, The (1993)',\n",
       " 516: 'Renaissance Man (1994)',\n",
       " 517: 'Rising Sun (1993)',\n",
       " 518: 'Road to Wellville, The (1994)',\n",
       " 519: 'RoboCop 3 (1993)',\n",
       " 520: 'Robin Hood: Men in Tights (1993)',\n",
       " 521: 'Romeo Is Bleeding (1993)',\n",
       " 522: 'Romper Stomper (1992)',\n",
       " 523: 'Ruby in Paradise (1993)',\n",
       " 524: 'Rudy (1993)',\n",
       " 526: 'Savage Nights (Nuits fauves, Les) (1992)',\n",
       " 527: \"Schindler's List (1993)\",\n",
       " 528: 'Scout, The (1994)',\n",
       " 529: 'Searching for Bobby Fischer (1993)',\n",
       " 531: 'Secret Garden, The (1993)',\n",
       " 532: 'Serial Mom (1994)',\n",
       " 533: 'Shadow, The (1994)',\n",
       " 534: 'Shadowlands (1993)',\n",
       " 535: 'Short Cuts (1993)',\n",
       " 536: 'Simple Twist of Fate, A (1994)',\n",
       " 537: 'Sirens (1994)',\n",
       " 538: 'Six Degrees of Separation (1993)',\n",
       " 539: 'Sleepless in Seattle (1993)',\n",
       " 540: 'Sliver (1993)',\n",
       " 541: 'Blade Runner (1982)',\n",
       " 542: 'Son in Law (1993)',\n",
       " 543: 'So I Married an Axe Murderer (1993)',\n",
       " 544: 'Striking Distance (1993)',\n",
       " 546: 'Super Mario Bros. (1993)',\n",
       " 547: 'Surviving the Game (1994)',\n",
       " 548: 'Terminal Velocity (1994)',\n",
       " 549: 'Thirty-Two Short Films About Glenn Gould (1993)',\n",
       " 550: 'Threesome (1994)',\n",
       " 551: 'Nightmare Before Christmas, The (1993)',\n",
       " 552: 'Three Musketeers, The (1993)',\n",
       " 553: 'Tombstone (1993)',\n",
       " 66090: 'Eden Lake (2008)',\n",
       " 555: 'True Romance (1993)',\n",
       " 556: 'War Room, The (1993)',\n",
       " 558: 'Pagemaster, The (1994)',\n",
       " 66097: 'Coraline (2009)',\n",
       " 562: 'Welcome to the Dollhouse (1995)',\n",
       " 563: 'Germinal (1993)',\n",
       " 564: 'Chasers (1994)',\n",
       " 32862: 'With Six You Get Eggroll (1968)',\n",
       " 567: 'Kika (1993)',\n",
       " 568: 'Bhaji on the Beach (1993)',\n",
       " 569: 'Little Big League (1994)',\n",
       " 65631: 'Battle in Seattle (2007)',\n",
       " 573: 'Ciao, Professore! (Io speriamo che me la cavo) (1992)',\n",
       " 574: 'Spanking the Monkey (1994)',\n",
       " 575: 'Little Rascals, The (1994)',\n",
       " 577: 'Andre (1994)',\n",
       " 579: 'Escort, The (Scorta, La) (1993)',\n",
       " 580: 'Princess Caraboo (1994)',\n",
       " 581: 'Celluloid Closet, The (1995)',\n",
       " 583: 'Dear Diary (Caro Diario) (1994)',\n",
       " 131656: 'Shaun the Sheep Movie (2015)',\n",
       " 585: 'Brady Bunch Movie, The (1995)',\n",
       " 586: 'Home Alone (1990)',\n",
       " 587: 'Ghost (1990)',\n",
       " 588: 'Aladdin (1992)',\n",
       " 589: 'Terminator 2: Judgment Day (1991)',\n",
       " 590: 'Dances with Wolves (1990)',\n",
       " 592: 'Batman (1989)',\n",
       " 593: 'Silence of the Lambs, The (1991)',\n",
       " 594: 'Snow White and the Seven Dwarfs (1937)',\n",
       " 595: 'Beauty and the Beast (1991)',\n",
       " 596: 'Pinocchio (1940)',\n",
       " 597: 'Pretty Woman (1990)',\n",
       " 599: 'Wild Bunch, The (1969)',\n",
       " 600: 'Love and a .45 (1994)',\n",
       " 602: 'Great Day in Harlem, A (1994)',\n",
       " 98908: 'How to Make Love to a Woman (2010)',\n",
       " 605: 'One Fine Day (1996)',\n",
       " 606: 'Candyman: Farewell to the Flesh (1995)',\n",
       " 608: 'Fargo (1996)',\n",
       " 609: 'Homeward Bound II: Lost in San Francisco (1996)',\n",
       " 610: 'Heavy Metal (1981)',\n",
       " 611: 'Hellraiser: Bloodline (1996)',\n",
       " 612: 'Pallbearer, The (1996)',\n",
       " 613: 'Jane Eyre (1996)',\n",
       " 615: 'Bread and Chocolate (Pane e cioccolata) (1973)',\n",
       " 616: 'Aristocats, The (1970)',\n",
       " 617: 'Flower of My Secret, The (La flor de mi secreto) (1995)',\n",
       " 618: 'Two Much (1995)',\n",
       " 619: 'Ed (1996)',\n",
       " 626: 'Thin Line Between Love and Hate, A (1996)',\n",
       " 627: 'Last Supper, The (1995)',\n",
       " 628: 'Primal Fear (1996)',\n",
       " 631: 'All Dogs Go to Heaven 2 (1996)',\n",
       " 632: 'Land and Freedom (Tierra y libertad) (1995)',\n",
       " 633: 'Denise Calls Up (1995)',\n",
       " 634: 'Theodore Rex (1995)',\n",
       " 635: 'Family Thing, A (1996)',\n",
       " 636: 'Frisk (1995)',\n",
       " 637: 'Sgt. Bilko (1996)',\n",
       " 638: 'Jack and Sarah (1995)',\n",
       " 639: 'Girl 6 (1996)',\n",
       " 640: 'Diabolique (1996)',\n",
       " 131714: 'Last Knights (2015)',\n",
       " 32875: 'Holiday (Jour de f\\xc3\\xaate) (1949)',\n",
       " 645: 'Nelly & Monsieur Arnaud (1995)',\n",
       " 647: 'Courage Under Fire (1996)',\n",
       " 648: 'Mission: Impossible (1996)',\n",
       " 649: 'Cold Fever (\\xc3\\x81 k\\xc3\\xb6ldum klaka) (1995)',\n",
       " 650: 'Moll Flanders (1996)',\n",
       " 131724: 'The Jinx: The Life and Deaths of Robert Durst (2015)',\n",
       " 653: 'Dragonheart (1996)',\n",
       " 656: 'Eddie (1996)',\n",
       " 98961: 'Zero Dark Thirty (2012)',\n",
       " 166946: 'The Founder (2016)',\n",
       " 661: 'James and the Giant Peach (1996)',\n",
       " 662: 'Fear (1996)',\n",
       " 663: 'Kids in the Hall: Brain Candy (1996)',\n",
       " 665: 'Underground (1995)',\n",
       " 667: 'Bloodsport 2 (a.k.a. Bloodsport II: The Next Kumite) (1996)',\n",
       " 668: 'Song of the Little Road (Pather Panchali) (1955)',\n",
       " 33437: 'Unleashed (Danny the Dog) (2005)',\n",
       " 670: 'World of Apu, The (Apur Sansar) (1959)',\n",
       " 671: 'Mystery Science Theater 3000: The Movie (1996)',\n",
       " 673: 'Space Jam (1996)',\n",
       " 674: 'Barbarella (1968)',\n",
       " 131749: 'Libre et assoupi (2014)',\n",
       " 678: 'Some Folks Call It a Sling Blade (1993)',\n",
       " 679: 'Run of the Country, The (1995)',\n",
       " 680: 'Alphaville (Alphaville, une \\xc3\\xa9trange aventure de Lemmy Caution) (1965)',\n",
       " 685: \"It's My Party (1996)\",\n",
       " 688: 'Operation Dumbo Drop (1995)',\n",
       " 691: 'Mrs. Winterbourne (1996)',\n",
       " 692: 'Solo (1996)',\n",
       " 694: 'Substitute, The (1996)',\n",
       " 695: 'True Crime (1996)',\n",
       " 697: 'Feeling Minnesota (1996)',\n",
       " 698: 'Delta of Venus (1995)',\n",
       " 700: 'Angus (1995)',\n",
       " 99005: 'Fire with Fire (2012)',\n",
       " 703: 'Boys (1996)',\n",
       " 704: 'Quest, The (1996)',\n",
       " 706: 'Sunset Park (1996)',\n",
       " 707: 'Mulholland Falls (1996)',\n",
       " 708: 'Truth About Cats & Dogs, The (1996)',\n",
       " 709: 'Oliver & Company (1988)',\n",
       " 710: 'Celtic Pride (1996)',\n",
       " 711: 'Flipper (1996)',\n",
       " 714: 'Dead Man (1995)',\n",
       " 715: 'Horseman on the Roof, The (Hussard sur le toit, Le) (1995)',\n",
       " 718: 'Visitors, The (Visiteurs, Les) (1993)',\n",
       " 719: 'Multiplicity (1996)',\n",
       " 720: 'Wallace & Gromit: The Best of Aardman Animation (1996)',\n",
       " 722: 'Haunted World of Edward D. Wood Jr., The (1996)',\n",
       " 724: 'Craft, The (1996)',\n",
       " 725: 'Great White Hype, The (1996)',\n",
       " 726: 'Last Dance (1996)',\n",
       " 33495: 'Kicking & Screaming (2005)',\n",
       " 728: 'Cold Comfort Farm (1995)',\n",
       " 731: \"Heaven's Prisoners (1996)\",\n",
       " 733: 'Rock, The (1996)',\n",
       " 735: 'Cemetery Man (Dellamorte Dellamore) (1994)',\n",
       " 736: 'Twister (1996)',\n",
       " 737: 'Barb Wire (1996)',\n",
       " 741: 'Ghost in the Shell (K\\xc3\\xb4kaku kid\\xc3\\xb4tai) (1995)',\n",
       " 742: 'Thinner (1996)',\n",
       " 743: 'Spy Hard (1996)',\n",
       " 745: 'Wallace & Gromit: A Close Shave (1995)',\n",
       " 747: 'Stupids, The (1996)',\n",
       " 748: 'Arrival, The (1996)',\n",
       " 750: 'Dr. Strangelove or: How I Learned to Stop Worrying and Love the Bomb (1964)',\n",
       " 131826: 'Iliza Shlesinger: Freezing Hot (2015)',\n",
       " 757: 'Ashes of Time (Dung che sai duk) (1994)',\n",
       " 759: 'Maya Lin: A Strong Clear Vision (1994)',\n",
       " 760: 'Stalingrad (1993)',\n",
       " 761: 'Phantom, The (1996)',\n",
       " 762: 'Striptease (1996)',\n",
       " 764: 'Heavy (1995)',\n",
       " 765: 'Jack (1996)',\n",
       " 766: 'I Shot Andy Warhol (1996)',\n",
       " 773: 'Touki Bouki (1973)',\n",
       " 66310: 'Fronti\\xc3\\xa8re(s) (2007)',\n",
       " 775: 'Spirits of the Dead (1968)',\n",
       " 778: 'Trainspotting (1996)',\n",
       " 779: \"'Til There Was You (1997)\",\n",
       " 780: 'Independence Day (a.k.a. ID4) (1996)',\n",
       " 781: 'Stealing Beauty (1996)',\n",
       " 782: 'Fan, The (1996)',\n",
       " 783: 'Hunchback of Notre Dame, The (1996)',\n",
       " 784: 'Cable Guy, The (1996)',\n",
       " 785: 'Kingpin (1996)',\n",
       " 786: 'Eraser (1996)',\n",
       " 788: 'Nutty Professor, The (1996)',\n",
       " 790: 'Unforgettable Summer, An (Un \\xc3\\xa9t\\xc3\\xa9 inoubliable) (1994)',\n",
       " 791: 'Last Klezmer: Leopold Kozlowski, His Life and Music, The (1994)',\n",
       " 795: 'Somebody to Love (1994)',\n",
       " 33564: \"Divorce - Italian Style (Divorzio all'italiana) (1961)\",\n",
       " 798: 'Daylight (1996)',\n",
       " 799: 'Frighteners, The (1996)',\n",
       " 800: 'Lone Star (1996)',\n",
       " 801: 'Harriet the Spy (1996)',\n",
       " 802: 'Phenomenon (1996)',\n",
       " 803: 'Walking and Talking (1996)',\n",
       " 804: \"She's the One (1996)\",\n",
       " 805: 'Time to Kill, A (1996)',\n",
       " 806: 'American Buffalo (1996)',\n",
       " 164647: 'Dirty 30 (2016)',\n",
       " 808: 'Alaska (1996)',\n",
       " 809: 'Fled (1996)',\n",
       " 810: 'Kazaam (1996)',\n",
       " 813: 'Larger Than Life (1996)',\n",
       " 164655: 'Gimme Danger (2016)',\n",
       " 818: 'Very Brady Sequel, A (1996)',\n",
       " 823: 'Collector, The (La collectionneuse) (1967)',\n",
       " 824: 'Kaspar Hauser (1993)',\n",
       " 99130: 'Ice Cream Man (1995)',\n",
       " 828: 'Adventures of Pinocchio, The (1996)',\n",
       " 829: \"Joe's Apartment (1996)\",\n",
       " 830: 'First Wives Club, The (1996)',\n",
       " 832: 'Ransom (1996)',\n",
       " 833: 'High School High (1996)',\n",
       " 835: 'Foxfire (1996)',\n",
       " 836: 'Chain Reaction (1996)',\n",
       " 837: 'Matilda (1996)',\n",
       " 838: 'Emma (1996)',\n",
       " 839: 'Crow: City of Angels, The (1996)',\n",
       " 840: 'House Arrest (1996)',\n",
       " 841: 'Eyes Without a Face (Yeux sans visage, Les) (1959)',\n",
       " 842: 'Tales from the Crypt Presents: Bordello of Blood (1996)',\n",
       " 99149: 'Mis\\xc3\\xa9rables, Les (2012)',\n",
       " 33615: 'Madagascar (2005)',\n",
       " 848: 'Spitfire Grill, The (1996)',\n",
       " 849: 'Escape from L.A. (1996)',\n",
       " 851: 'Basquiat (1996)',\n",
       " 852: 'Tin Cup (1996)',\n",
       " 858: 'Godfather, The (1972)',\n",
       " 861: 'Supercop (Police Story 3: Supercop) (Jing cha gu shi III: Chao ji jing cha) (1992)',\n",
       " 131934: 'The Malibu Bikini Shop (1986)',\n",
       " 866: 'Bound (1996)',\n",
       " 867: 'Carpool (1996)',\n",
       " 869: 'Kansas City (1996)',\n",
       " 870: \"Gone Fishin' (1997)\",\n",
       " 33639: 'Mad Hot Ballroom (2005)',\n",
       " 109372: 'About Last Night (2014)',\n",
       " 875: 'Nothing to Lose (1994)',\n",
       " 876: 'Supercop 2 (Project S) (Chao ji ji hua) (1993)',\n",
       " 32914: 'Carrie (2002)',\n",
       " 33646: 'Longest Yard, The (2005)',\n",
       " 879: 'Relic, The (1997)',\n",
       " 880: 'Island of Dr. Moreau, The (1996)',\n",
       " 881: 'First Kid (1996)',\n",
       " 882: 'Trigger Effect, The (1996)',\n",
       " 885: 'Bogus (1996)',\n",
       " 886: 'Bulletproof (1996)',\n",
       " 99191: 'Campfire Tales (1997)',\n",
       " 888: 'Land Before Time III: The Time of the Great Giving (1995)',\n",
       " 889: '1-900 (06) (1994)',\n",
       " 891: 'Halloween: The Curse of Michael Myers (Halloween 6: The Curse of Michael Myers) (1995)',\n",
       " 892: 'Twelfth Night (1996)',\n",
       " 893: 'Mother Night (1996)',\n",
       " 32917: \"Boccaccio '70 (1962)\",\n",
       " 896: 'Wild Reeds (Les roseaux sauvages) (1994)',\n",
       " 897: 'For Whom the Bell Tolls (1943)',\n",
       " 898: 'Philadelphia Story, The (1940)',\n",
       " 899: \"Singin' in the Rain (1952)\",\n",
       " 900: 'American in Paris, An (1951)',\n",
       " 901: 'Funny Face (1957)',\n",
       " 902: \"Breakfast at Tiffany's (1961)\",\n",
       " 903: 'Vertigo (1958)',\n",
       " 904: 'Rear Window (1954)',\n",
       " 905: 'It Happened One Night (1934)',\n",
       " 906: 'Gaslight (1944)',\n",
       " 907: 'Gay Divorcee, The (1934)',\n",
       " 908: 'North by Northwest (1959)',\n",
       " 909: 'Apartment, The (1960)',\n",
       " 910: 'Some Like It Hot (1959)',\n",
       " 911: 'Charade (1963)',\n",
       " 912: 'Casablanca (1942)',\n",
       " 913: 'Maltese Falcon, The (1941)',\n",
       " 914: 'My Fair Lady (1964)',\n",
       " 915: 'Sabrina (1954)',\n",
       " 916: 'Roman Holiday (1953)',\n",
       " 917: 'Little Princess, The (1939)',\n",
       " 918: 'Meet Me in St. Louis (1944)',\n",
       " 919: 'Wizard of Oz, The (1939)',\n",
       " 920: 'Gone with the Wind (1939)',\n",
       " 921: 'My Favorite Year (1982)',\n",
       " 922: 'Sunset Blvd. (a.k.a. Sunset Boulevard) (1950)',\n",
       " 923: 'Citizen Kane (1941)',\n",
       " 924: '2001: A Space Odyssey (1968)',\n",
       " 926: 'All About Eve (1950)',\n",
       " 927: 'Women, The (1939)',\n",
       " 928: 'Rebecca (1940)',\n",
       " 929: 'Foreign Correspondent (1940)',\n",
       " 930: 'Notorious (1946)',\n",
       " 931: 'Spellbound (1945)',\n",
       " 932: 'Affair to Remember, An (1957)',\n",
       " 933: 'To Catch a Thief (1955)',\n",
       " 934: 'Father of the Bride (1950)',\n",
       " 935: 'Band Wagon, The (1953)',\n",
       " 936: 'Ninotchka (1939)',\n",
       " 937: 'Love in the Afternoon (1957)',\n",
       " 938: 'Gigi (1958)',\n",
       " 940: 'Adventures of Robin Hood, The (1938)',\n",
       " 941: 'Mark of Zorro, The (1940)',\n",
       " 942: 'Laura (1944)',\n",
       " 943: 'Ghost and Mrs. Muir, The (1947)',\n",
       " 944: 'Lost Horizon (1937)',\n",
       " 945: 'Top Hat (1935)',\n",
       " 946: 'To Be or Not to Be (1942)',\n",
       " 947: 'My Man Godfrey (1936)',\n",
       " 948: 'Giant (1956)',\n",
       " 949: 'East of Eden (1955)',\n",
       " 950: 'Thin Man, The (1934)',\n",
       " 951: 'His Girl Friday (1940)',\n",
       " 952: 'Around the World in 80 Days (1956)',\n",
       " 953: \"It's a Wonderful Life (1946)\",\n",
       " 954: 'Mr. Smith Goes to Washington (1939)',\n",
       " 955: 'Bringing Up Baby (1938)',\n",
       " 956: 'Penny Serenade (1941)',\n",
       " 33725: \"It's All Gone Pete Tong (2004)\",\n",
       " 959: 'Of Human Bondage (1934)',\n",
       " 961: 'Little Lord Fauntleroy (1936)',\n",
       " 963: 'Inspector General, The (1949)',\n",
       " 965: '39 Steps, The (1935)',\n",
       " 968: 'Night of the Living Dead (1968)',\n",
       " 969: 'African Queen, The (1951)',\n",
       " 970: 'Beat the Devil (1953)',\n",
       " 971: 'Cat on a Hot Tin Roof (1958)',\n",
       " 973: 'Meet John Doe (1941)',\n",
       " 132046: 'Tomorrowland (2015)',\n",
       " 66511: 'Berlin Calling (2008)',\n",
       " 976: 'Farewell to Arms, A (1932)',\n",
       " 979: 'Nothing Personal (1995)',\n",
       " 981: 'Dangerous Ground (1997)',\n",
       " 982: 'Picnic (1955)',\n",
       " 984: 'Pompatus of Love, The (1996)',\n",
       " 986: 'Fly Away Home (1996)',\n",
       " 987: 'Bliss (1997)',\n",
       " 988: 'Grace of My Heart (1996)',\n",
       " 990: 'Maximum Risk (1996)',\n",
       " 991: 'Michael Collins (1996)',\n",
       " 993: 'Infinity (1996)',\n",
       " 994: 'Big Night (1996)',\n",
       " 996: 'Last Man Standing (1996)',\n",
       " 998: 'Set It Off (1996)',\n",
       " 999: '2 Days in the Valley (1996)',\n",
       " 1003: 'Extreme Measures (1996)',\n",
       " 1004: 'Glimmer Man, The (1996)',\n",
       " 1005: 'D3: The Mighty Ducks (1996)',\n",
       " 1006: 'Chamber, The (1996)',\n",
       " 1007: 'Apple Dumpling Gang, The (1975)',\n",
       " 1008: 'Davy Crockett, King of the Wild Frontier (1955)',\n",
       " 1009: 'Escape to Witch Mountain (1975)',\n",
       " 1010: 'Love Bug, The (1969)',\n",
       " 1011: 'Herbie Rides Again (1974)',\n",
       " 1012: 'Old Yeller (1957)',\n",
       " 1013: 'Parent Trap, The (1961)',\n",
       " 1014: 'Pollyanna (1960)',\n",
       " 1015: 'Homeward Bound: The Incredible Journey (1993)',\n",
       " 1016: 'Shaggy Dog, The (1959)',\n",
       " 1017: 'Swiss Family Robinson (1960)',\n",
       " 1018: 'That Darn Cat! (1965)',\n",
       " 1019: '20,000 Leagues Under the Sea (1954)',\n",
       " 1020: 'Cool Runnings (1993)',\n",
       " 1021: 'Angels in the Outfield (1994)',\n",
       " 1022: 'Cinderella (1950)',\n",
       " 1023: 'Winnie the Pooh and the Blustery Day (1968)',\n",
       " 1024: 'Three Caballeros, The (1945)',\n",
       " 1025: 'Sword in the Stone, The (1963)',\n",
       " 33794: 'Batman Begins (2005)',\n",
       " 1027: 'Robin Hood: Prince of Thieves (1991)',\n",
       " 1028: 'Mary Poppins (1964)',\n",
       " 1029: 'Dumbo (1941)',\n",
       " 1030: \"Pete's Dragon (1977)\",\n",
       " 1031: 'Bedknobs and Broomsticks (1971)',\n",
       " 1032: 'Alice in Wonderland (1951)',\n",
       " 1033: 'Fox and the Hound, The (1981)',\n",
       " 1034: 'Freeway (1996)',\n",
       " 1035: 'Sound of Music, The (1965)',\n",
       " 1036: 'Die Hard (1988)',\n",
       " 1037: 'Lawnmower Man, The (1992)',\n",
       " 1040: 'Secret Agent, The (1996)',\n",
       " 1041: 'Secrets & Lies (1996)',\n",
       " 1042: 'That Thing You Do! (1996)',\n",
       " 1043: 'To Gillian on Her 37th Birthday (1996)',\n",
       " 1046: 'Beautiful Thing (1996)',\n",
       " 1047: 'Long Kiss Goodnight, The (1996)',\n",
       " 1049: 'Ghost and the Darkness, The (1996)',\n",
       " 1050: 'Looking for Richard (1996)',\n",
       " 1051: 'Trees Lounge (1996)',\n",
       " 1053: 'Normal Life (1996)',\n",
       " 1054: 'Get on the Bus (1996)',\n",
       " 1055: 'Shadow Conspiracy (1997)',\n",
       " 1056: 'Jude (1996)',\n",
       " 1057: 'Everyone Says I Love You (1996)',\n",
       " 33826: 'Saint Ralph (2004)',\n",
       " 1059: \"William Shakespeare's Romeo + Juliet (1996)\",\n",
       " 1060: 'Swingers (1996)',\n",
       " 1061: 'Sleepers (1996)',\n",
       " 33830: 'Herbie: Fully Loaded (2005)',\n",
       " 1064: 'Aladdin and the King of Thieves (1996)',\n",
       " 1066: 'Shall We Dance (1937)',\n",
       " 1068: 'Crossfire (1947)',\n",
       " 164909: 'La La Land (2016)',\n",
       " 33838: 'Rize (2005)',\n",
       " 1073: 'Willy Wonka & the Chocolate Factory (1971)',\n",
       " 1076: 'Innocents, The (1961)',\n",
       " 1077: 'Sleeper (1973)',\n",
       " 1078: 'Bananas (1971)',\n",
       " 1079: 'Fish Called Wanda, A (1988)',\n",
       " 1080: \"Monty Python's Life of Brian (1979)\",\n",
       " 1081: 'Victor/Victoria (1982)',\n",
       " 1082: 'Candidate, The (1972)',\n",
       " 1083: 'Great Race, The (1965)',\n",
       " 1084: 'Bonnie and Clyde (1967)',\n",
       " 1085: 'Old Man and the Sea, The (1958)',\n",
       " 1086: 'Dial M for Murder (1954)',\n",
       " 1088: 'Dirty Dancing (1987)',\n",
       " 1089: 'Reservoir Dogs (1992)',\n",
       " 1090: 'Platoon (1986)',\n",
       " 1091: \"Weekend at Bernie's (1989)\",\n",
       " 1092: 'Basic Instinct (1992)',\n",
       " 1093: 'Doors, The (1991)',\n",
       " 1094: 'Crying Game, The (1992)',\n",
       " 1095: 'Glengarry Glen Ross (1992)',\n",
       " 1096: \"Sophie's Choice (1982)\",\n",
       " 1097: 'E.T. the Extra-Terrestrial (1982)',\n",
       " 1099: 'Christmas Carol, A (1938)',\n",
       " 1100: 'Days of Thunder (1990)',\n",
       " 1101: 'Top Gun (1986)',\n",
       " 1103: 'Rebel Without a Cause (1955)',\n",
       " 1104: 'Streetcar Named Desire, A (1951)',\n",
       " 1105: 'Children of the Corn IV: The Gathering (1996)',\n",
       " 1107: 'Loser (1991)',\n",
       " 1111: \"Microcosmos (Microcosmos: Le peuple de l'herbe) (1996)\",\n",
       " 1112: 'Palookaville (1996)',\n",
       " 1114: 'Funeral, The (1996)',\n",
       " 1116: 'Single Girl, A (Fille seule, La) (1995)',\n",
       " 1117: 'Eighth Day, The (Huiti\\xc3\\xa8me jour, Le) (1996)',\n",
       " 1119: 'Drunks (1995)',\n",
       " 1120: 'People vs. Larry Flynt, The (1996)',\n",
       " 1121: 'Glory Daze (1995)',\n",
       " 1123: 'Perfect Candidate, A (1996)',\n",
       " 1124: 'On Golden Pond (1981)',\n",
       " 1125: 'Return of the Pink Panther, The (1975)',\n",
       " 1126: 'Drop Dead Fred (1991)',\n",
       " 1127: 'Abyss, The (1989)',\n",
       " 1128: 'Fog, The (1980)',\n",
       " 1129: 'Escape from New York (1981)',\n",
       " 1130: 'Howling, The (1980)',\n",
       " 1131: 'Jean de Florette (1986)',\n",
       " 1132: 'Manon of the Spring (Manon des sources) (1986)',\n",
       " 99437: 'John Dies at the End (2012)',\n",
       " 1135: 'Private Benjamin (1980)',\n",
       " 1136: 'Monty Python and the Holy Grail (1975)',\n",
       " 1137: 'Hustler White (1996)',\n",
       " 1140: 'Entertaining Angels: The Dorothy Day Story (1996)',\n",
       " 1144: 'Line King: The Al Hirschfeld Story, The (1996)',\n",
       " 1147: 'When We Were Kings (1996)',\n",
       " 1148: 'Wallace & Gromit: The Wrong Trousers (1993)',\n",
       " 1150: 'Return of Martin Guerre, The (Retour de Martin Guerre, Le) (1982)',\n",
       " 1151: 'Lesson Faust (1994)',\n",
       " 1156: 'Children Are Watching Us, The (Bambini ci guardano, I) (1944)',\n",
       " 1161: 'Tin Drum, The (Blechtrommel, Die) (1979)',\n",
       " 1162: 'Ruling Class, The (1972)',\n",
       " 1163: 'Mina Tannenbaum (1994)',\n",
       " 1167: 'Dear God (1996)',\n",
       " 1170: 'Best of the Best 3: No Turning Back (1995)',\n",
       " 1171: 'Bob Roberts (1992)',\n",
       " 1172: 'Cinema Paradiso (Nuovo cinema Paradiso) (1989)',\n",
       " 1173: 'Cook the Thief His Wife & Her Lover, The (1989)',\n",
       " 1175: 'Delicatessen (1991)',\n",
       " 1176: 'Double Life of Veronique, The (Double Vie de V\\xc3\\xa9ronique, La) (1991)',\n",
       " 1177: 'Enchanted April (1992)',\n",
       " 1178: 'Paths of Glory (1957)',\n",
       " 1179: 'Grifters, The (1990)',\n",
       " 1180: 'Hear My Song (1991)',\n",
       " 1183: 'English Patient, The (1996)',\n",
       " 1184: 'Mediterraneo (1991)',\n",
       " 1185: 'My Left Foot (1989)',\n",
       " 1186: 'Sex, Lies, and Videotape (1989)',\n",
       " 1187: 'Passion Fish (1992)',\n",
       " 1188: 'Strictly Ballroom (1992)',\n",
       " 1189: 'Thin Blue Line, The (1988)',\n",
       " 1190: 'Tie Me Up! Tie Me Down! (\\xc2\\xa1\\xc3\\x81tame!) (1990)',\n",
       " 1191: 'Madonna: Truth or Dare (1991)',\n",
       " 1192: 'Paris Is Burning (1990)',\n",
       " 1193: \"One Flew Over the Cuckoo's Nest (1975)\",\n",
       " 1194: \"Cheech and Chong's Up in Smoke (1978)\",\n",
       " 98503: 'Half a Loaf of Kung Fu (Dian zhi gong fu gan chian chan) (1980)',\n",
       " 1196: 'Star Wars: Episode V - The Empire Strikes Back (1980)',\n",
       " 1197: 'Princess Bride, The (1987)',\n",
       " 1198: 'Raiders of the Lost Ark (Indiana Jones and the Raiders of the Lost Ark) (1981)',\n",
       " 1199: 'Brazil (1985)',\n",
       " 1200: 'Aliens (1986)',\n",
       " 1201: 'Good, the Bad and the Ugly, The (Buono, il brutto, il cattivo, Il) (1966)',\n",
       " 1202: 'Withnail & I (1987)',\n",
       " 1203: '12 Angry Men (1957)',\n",
       " 1204: 'Lawrence of Arabia (1962)',\n",
       " 1206: 'Clockwork Orange, A (1971)',\n",
       " 1207: 'To Kill a Mockingbird (1962)',\n",
       " 1208: 'Apocalypse Now (1979)',\n",
       " 1209: \"Once Upon a Time in the West (C'era una volta il West) (1968)\",\n",
       " 1210: 'Star Wars: Episode VI - Return of the Jedi (1983)',\n",
       " 1211: 'Wings of Desire (Himmel \\xc3\\xbcber Berlin, Der) (1987)',\n",
       " 1212: 'Third Man, The (1949)',\n",
       " 1213: 'Goodfellas (1990)',\n",
       " 1214: 'Alien (1979)',\n",
       " 1215: 'Army of Darkness (1993)',\n",
       " 1216: 'Big Blue, The (Grand bleu, Le) (1988)',\n",
       " 1217: 'Ran (1985)',\n",
       " 1218: 'Killer, The (Die xue shuang xiong) (1989)',\n",
       " 1219: 'Psycho (1960)',\n",
       " 1220: 'Blues Brothers, The (1980)',\n",
       " 1221: 'Godfather: Part II, The (1974)',\n",
       " 1222: 'Full Metal Jacket (1987)',\n",
       " 1223: 'Grand Day Out with Wallace and Gromit, A (1989)',\n",
       " 1224: 'Henry V (1989)',\n",
       " 1225: 'Amadeus (1984)',\n",
       " 1226: 'Quiet Man, The (1952)',\n",
       " 1227: 'Once Upon a Time in America (1984)',\n",
       " 1228: 'Raging Bull (1980)',\n",
       " 1230: 'Annie Hall (1977)',\n",
       " 1231: 'Right Stuff, The (1983)',\n",
       " 1232: 'Stalker (1979)',\n",
       " 1233: 'Boot, Das (Boat, The) (1981)',\n",
       " 1234: 'Sting, The (1973)',\n",
       " 1235: 'Harold and Maude (1971)',\n",
       " 1236: 'Trust (1990)',\n",
       " 1237: 'Seventh Seal, The (Sjunde inseglet, Det) (1957)',\n",
       " 1238: 'Local Hero (1983)',\n",
       " 1240: 'Terminator, The (1984)',\n",
       " 1241: 'Dead Alive (Braindead) (1992)',\n",
       " 1242: 'Glory (1989)',\n",
       " 1243: 'Rosencrantz and Guildenstern Are Dead (1990)',\n",
       " 1244: 'Manhattan (1979)',\n",
       " 1245: \"Miller's Crossing (1990)\",\n",
       " 1246: 'Dead Poets Society (1989)',\n",
       " 1247: 'Graduate, The (1967)',\n",
       " 1248: 'Touch of Evil (1958)',\n",
       " 1249: 'Femme Nikita, La (Nikita) (1990)',\n",
       " 1250: 'Bridge on the River Kwai, The (1957)',\n",
       " ...}"
      ]
     },
     "execution_count": 31,
     "metadata": {},
     "output_type": "execute_result"
    }
   ],
   "source": [
    "movie_names"
   ]
  },
  {
   "cell_type": "code",
   "execution_count": 32,
   "metadata": {
    "collapsed": true,
    "hidden": true
   },
   "outputs": [],
   "source": [
    "users = ratings.userId.unique()\n",
    "movies = ratings.movieId.unique()"
   ]
  },
  {
   "cell_type": "code",
   "execution_count": 33,
   "metadata": {
    "collapsed": true,
    "hidden": true
   },
   "outputs": [],
   "source": [
    "userid2idx = {o:i for i,o in enumerate(users)}\n",
    "movieid2idx = {o:i for i,o in enumerate(movies)}"
   ]
  },
  {
   "cell_type": "code",
   "execution_count": 37,
   "metadata": {},
   "outputs": [
    {
     "data": {
      "text/plain": [
       "{1: 0,\n",
       " 2: 481,\n",
       " 3: 1,\n",
       " 4: 482,\n",
       " 5: 483,\n",
       " 6: 2,\n",
       " 7: 484,\n",
       " 8: 485,\n",
       " 9: 5017,\n",
       " 10: 486,\n",
       " 11: 487,\n",
       " 12: 1399,\n",
       " 13: 488,\n",
       " 14: 3678,\n",
       " 15: 489,\n",
       " 16: 490,\n",
       " 17: 491,\n",
       " 18: 2657,\n",
       " 19: 492,\n",
       " 20: 3604,\n",
       " 21: 291,\n",
       " 22: 493,\n",
       " 23: 2163,\n",
       " 24: 494,\n",
       " 25: 495,\n",
       " 26: 496,\n",
       " 27: 497,\n",
       " 28: 2430,\n",
       " 29: 2068,\n",
       " 30: 6914,\n",
       " 31: 259,\n",
       " 32: 292,\n",
       " 34: 460,\n",
       " 36: 461,\n",
       " 38: 1859,\n",
       " 39: 462,\n",
       " 40: 6704,\n",
       " 41: 498,\n",
       " 42: 5992,\n",
       " 43: 499,\n",
       " 44: 971,\n",
       " 45: 293,\n",
       " 46: 500,\n",
       " 47: 3,\n",
       " 48: 1400,\n",
       " 65585: 4529,\n",
       " 50: 4,\n",
       " 52: 294,\n",
       " 53: 3711,\n",
       " 54: 501,\n",
       " 55: 3679,\n",
       " 57: 2651,\n",
       " 58: 295,\n",
       " 60: 502,\n",
       " 61: 503,\n",
       " 62: 504,\n",
       " 63: 5832,\n",
       " 64: 1401,\n",
       " 65: 505,\n",
       " 66: 506,\n",
       " 68: 4035,\n",
       " 69: 2663,\n",
       " 70: 5,\n",
       " 71: 4663,\n",
       " 72: 5550,\n",
       " 73: 4698,\n",
       " 74: 2420,\n",
       " 75: 5018,\n",
       " 76: 507,\n",
       " 77: 9348,\n",
       " 78: 2421,\n",
       " 79: 508,\n",
       " 80: 6915,\n",
       " 81: 4036,\n",
       " 82: 2503,\n",
       " 83: 5687,\n",
       " 85: 4037,\n",
       " 86: 509,\n",
       " 87: 510,\n",
       " 88: 511,\n",
       " 89: 512,\n",
       " 92: 513,\n",
       " 93: 514,\n",
       " 94: 2431,\n",
       " 95: 515,\n",
       " 96: 8152,\n",
       " 97: 5289,\n",
       " 99: 5551,\n",
       " 100: 516,\n",
       " 101: 6,\n",
       " 102: 517,\n",
       " 103: 8579,\n",
       " 104: 518,\n",
       " 105: 519,\n",
       " 106: 296,\n",
       " 107: 1402,\n",
       " 108: 9349,\n",
       " 110: 7,\n",
       " 111: 1093,\n",
       " 112: 520,\n",
       " 113: 521,\n",
       " 65651: 5643,\n",
       " 116: 4038,\n",
       " 117: 9411,\n",
       " 118: 1403,\n",
       " 119: 7421,\n",
       " 121: 2504,\n",
       " 122: 2543,\n",
       " 123: 6019,\n",
       " 32892: 4309,\n",
       " 125: 297,\n",
       " 126: 298,\n",
       " 128: 6144,\n",
       " 129: 6446,\n",
       " 32898: 2800,\n",
       " 5483: 7530,\n",
       " 132: 4875,\n",
       " 135: 522,\n",
       " 137: 9561,\n",
       " 32906: 6769,\n",
       " 140: 523,\n",
       " 141: 524,\n",
       " 144: 2544,\n",
       " 145: 525,\n",
       " 146: 526,\n",
       " 147: 2164,\n",
       " 148: 5552,\n",
       " 32917: 6770,\n",
       " 150: 463,\n",
       " 151: 8,\n",
       " 152: 7125,\n",
       " 153: 464,\n",
       " 154: 3680,\n",
       " 155: 5553,\n",
       " 156: 4463,\n",
       " 157: 9,\n",
       " 158: 527,\n",
       " 159: 528,\n",
       " 160: 529,\n",
       " 161: 530,\n",
       " 162: 299,\n",
       " 163: 10,\n",
       " 164: 3606,\n",
       " 165: 531,\n",
       " 166: 5290,\n",
       " 168: 532,\n",
       " 169: 5287,\n",
       " 170: 533,\n",
       " 171: 300,\n",
       " 172: 1026,\n",
       " 173: 1404,\n",
       " 174: 534,\n",
       " 175: 2069,\n",
       " 176: 301,\n",
       " 177: 535,\n",
       " 178: 5554,\n",
       " 179: 536,\n",
       " 180: 537,\n",
       " 181: 538,\n",
       " 183: 6916,\n",
       " 184: 9351,\n",
       " 185: 539,\n",
       " 186: 540,\n",
       " 187: 828,\n",
       " 188: 4876,\n",
       " 189: 541,\n",
       " 190: 302,\n",
       " 191: 542,\n",
       " 193: 1023,\n",
       " 194: 2422,\n",
       " 195: 543,\n",
       " 196: 544,\n",
       " 198: 3000,\n",
       " 199: 2505,\n",
       " 201: 545,\n",
       " 65738: 6685,\n",
       " 203: 2423,\n",
       " 204: 546,\n",
       " 205: 547,\n",
       " 206: 7247,\n",
       " 207: 548,\n",
       " 208: 549,\n",
       " 209: 550,\n",
       " 210: 551,\n",
       " 211: 2165,\n",
       " 212: 552,\n",
       " 213: 4257,\n",
       " 214: 3681,\n",
       " 215: 303,\n",
       " 216: 11,\n",
       " 217: 553,\n",
       " 218: 554,\n",
       " 219: 555,\n",
       " 220: 9412,\n",
       " 222: 304,\n",
       " 223: 12,\n",
       " 224: 556,\n",
       " 225: 557,\n",
       " 227: 2545,\n",
       " 228: 2506,\n",
       " 229: 5555,\n",
       " 230: 558,\n",
       " 231: 13,\n",
       " 232: 305,\n",
       " 233: 4180,\n",
       " 234: 559,\n",
       " 235: 14,\n",
       " 236: 560,\n",
       " 237: 561,\n",
       " 238: 2139,\n",
       " 239: 562,\n",
       " 240: 563,\n",
       " 241: 9554,\n",
       " 242: 5104,\n",
       " 243: 564,\n",
       " 246: 2424,\n",
       " 247: 306,\n",
       " 248: 565,\n",
       " 249: 2432,\n",
       " 250: 566,\n",
       " 251: 567,\n",
       " 252: 568,\n",
       " 253: 465,\n",
       " 254: 569,\n",
       " 255: 3217,\n",
       " 256: 570,\n",
       " 257: 571,\n",
       " 258: 572,\n",
       " 259: 2652,\n",
       " 260: 15,\n",
       " 261: 466,\n",
       " 262: 573,\n",
       " 263: 9427,\n",
       " 265: 307,\n",
       " 266: 467,\n",
       " 267: 574,\n",
       " 5506: 4963,\n",
       " 270: 575,\n",
       " 271: 576,\n",
       " 272: 2070,\n",
       " 273: 577,\n",
       " 274: 578,\n",
       " 275: 5692,\n",
       " 276: 579,\n",
       " 277: 580,\n",
       " 278: 6482,\n",
       " 279: 581,\n",
       " 280: 3051,\n",
       " 98585: 1341,\n",
       " 282: 583,\n",
       " 283: 4484,\n",
       " 284: 8919,\n",
       " 285: 9413,\n",
       " 287: 3682,\n",
       " 288: 584,\n",
       " 289: 585,\n",
       " 290: 468,\n",
       " 291: 586,\n",
       " 292: 587,\n",
       " 293: 588,\n",
       " 294: 6160,\n",
       " 295: 1405,\n",
       " 296: 16,\n",
       " 298: 6308,\n",
       " 299: 3683,\n",
       " 300: 469,\n",
       " 301: 9352,\n",
       " 302: 589,\n",
       " 303: 590,\n",
       " 304: 591,\n",
       " 305: 1004,\n",
       " 306: 2507,\n",
       " 307: 2433,\n",
       " 308: 2434,\n",
       " 310: 592,\n",
       " 311: 9414,\n",
       " 312: 593,\n",
       " 313: 594,\n",
       " 314: 595,\n",
       " 315: 596,\n",
       " 316: 17,\n",
       " 317: 597,\n",
       " 318: 232,\n",
       " 319: 308,\n",
       " 320: 9353,\n",
       " 321: 3684,\n",
       " 322: 2435,\n",
       " 5515: 7295,\n",
       " 324: 3685,\n",
       " 325: 1406,\n",
       " 326: 3686,\n",
       " 327: 598,\n",
       " 328: 1407,\n",
       " 329: 599,\n",
       " 330: 600,\n",
       " 331: 3687,\n",
       " 332: 601,\n",
       " 333: 18,\n",
       " 334: 2071,\n",
       " 335: 7089,\n",
       " 336: 602,\n",
       " 337: 603,\n",
       " 338: 1408,\n",
       " 339: 604,\n",
       " 340: 605,\n",
       " 341: 6447,\n",
       " 342: 309,\n",
       " 343: 606,\n",
       " 344: 470,\n",
       " 345: 310,\n",
       " 346: 4485,\n",
       " 347: 607,\n",
       " 348: 311,\n",
       " 349: 19,\n",
       " 350: 608,\n",
       " 351: 312,\n",
       " 352: 609,\n",
       " 353: 610,\n",
       " 354: 611,\n",
       " 355: 612,\n",
       " 356: 20,\n",
       " 357: 313,\n",
       " 358: 613,\n",
       " 359: 614,\n",
       " 360: 615,\n",
       " 361: 616,\n",
       " 362: 21,\n",
       " 363: 7248,\n",
       " 364: 471,\n",
       " 365: 3167,\n",
       " 366: 617,\n",
       " 367: 22,\n",
       " 368: 314,\n",
       " 369: 3688,\n",
       " 370: 618,\n",
       " 371: 619,\n",
       " 372: 1409,\n",
       " 373: 4892,\n",
       " 374: 620,\n",
       " 376: 972,\n",
       " 33145: 893,\n",
       " 378: 622,\n",
       " 379: 1410,\n",
       " 380: 472,\n",
       " 381: 623,\n",
       " 382: 624,\n",
       " 383: 625,\n",
       " 384: 4052,\n",
       " 385: 2436,\n",
       " 33154: 3366,\n",
       " 387: 2892,\n",
       " 388: 6166,\n",
       " 38294: 6043,\n",
       " 390: 4839,\n",
       " 391: 2710,\n",
       " 393: 4860,\n",
       " 33162: 807,\n",
       " 33164: 5917,\n",
       " 33166: 2285,\n",
       " 27373: 8912,\n",
       " 33171: 6666,\n",
       " 405: 626,\n",
       " 406: 3689,\n",
       " 407: 1411,\n",
       " 408: 2546,\n",
       " 409: 6588,\n",
       " 410: 473,\n",
       " 412: 627,\n",
       " 413: 2547,\n",
       " 414: 1412,\n",
       " 415: 628,\n",
       " 416: 629,\n",
       " 417: 315,\n",
       " 418: 2548,\n",
       " 419: 630,\n",
       " 420: 1413,\n",
       " 421: 2140,\n",
       " 422: 1414,\n",
       " 423: 23,\n",
       " 424: 2549,\n",
       " 425: 5047,\n",
       " 426: 631,\n",
       " 427: 1415,\n",
       " 428: 2166,\n",
       " 429: 5693,\n",
       " 430: 8888,\n",
       " 431: 1155,\n",
       " 432: 632,\n",
       " 433: 2550,\n",
       " 434: 633,\n",
       " 435: 634,\n",
       " 436: 2551,\n",
       " 437: 635,\n",
       " 438: 5694,\n",
       " 440: 636,\n",
       " 441: 24,\n",
       " 442: 1156,\n",
       " 444: 5695,\n",
       " 445: 637,\n",
       " 65982: 2387,\n",
       " 448: 1024,\n",
       " 449: 8587,\n",
       " 450: 316,\n",
       " 451: 8146,\n",
       " 452: 2438,\n",
       " 453: 5288,\n",
       " 454: 638,\n",
       " 455: 639,\n",
       " 456: 2167,\n",
       " 457: 25,\n",
       " 458: 640,\n",
       " 459: 2552,\n",
       " 460: 641,\n",
       " 461: 5597,\n",
       " 464: 4053,\n",
       " 466: 642,\n",
       " 467: 8580,\n",
       " 468: 643,\n",
       " 469: 644,\n",
       " 470: 6483,\n",
       " 471: 2425,\n",
       " 472: 645,\n",
       " 473: 3001,\n",
       " 474: 474,\n",
       " 475: 317,\n",
       " 476: 6173,\n",
       " 477: 646,\n",
       " 478: 8990,\n",
       " 479: 2893,\n",
       " 480: 26,\n",
       " 481: 2168,\n",
       " 482: 2894,\n",
       " 484: 2653,\n",
       " 485: 647,\n",
       " 486: 1416,\n",
       " 487: 4694,\n",
       " 488: 8153,\n",
       " 489: 648,\n",
       " 490: 649,\n",
       " 491: 650,\n",
       " 492: 318,\n",
       " 493: 651,\n",
       " 494: 652,\n",
       " 98799: 9251,\n",
       " 496: 5557,\n",
       " 497: 653,\n",
       " 499: 6484,\n",
       " 500: 27,\n",
       " 501: 4742,\n",
       " 502: 654,\n",
       " 504: 5696,\n",
       " 505: 655,\n",
       " 131578: 9293,\n",
       " 507: 2169,\n",
       " 508: 656,\n",
       " 509: 319,\n",
       " 510: 657,\n",
       " 511: 973,\n",
       " 512: 1417,\n",
       " 513: 1418,\n",
       " 514: 2508,\n",
       " 515: 475,\n",
       " 516: 658,\n",
       " 517: 5697,\n",
       " 518: 3002,\n",
       " 519: 2654,\n",
       " 520: 659,\n",
       " 521: 6989,\n",
       " 522: 2895,\n",
       " 523: 3218,\n",
       " 524: 660,\n",
       " 33294: 9132,\n",
       " 527: 28,\n",
       " 528: 4486,\n",
       " 529: 974,\n",
       " 531: 476,\n",
       " 532: 661,\n",
       " 533: 4054,\n",
       " 534: 477,\n",
       " 535: 3219,\n",
       " 536: 662,\n",
       " 537: 663,\n",
       " 538: 320,\n",
       " 539: 321,\n",
       " 540: 664,\n",
       " 541: 1094,\n",
       " 542: 665,\n",
       " 543: 29,\n",
       " 544: 2486,\n",
       " 546: 666,\n",
       " 547: 6015,\n",
       " 548: 667,\n",
       " 549: 7413,\n",
       " 550: 2553,\n",
       " 551: 1419,\n",
       " 552: 30,\n",
       " 553: 31,\n",
       " 66090: 7704,\n",
       " 555: 1157,\n",
       " 556: 6309,\n",
       " 558: 1420,\n",
       " 66097: 2065,\n",
       " 562: 2439,\n",
       " 563: 9428,\n",
       " 564: 5698,\n",
       " 32862: 9533,\n",
       " 567: 4840,\n",
       " 568: 7710,\n",
       " 569: 668,\n",
       " 65631: 6792,\n",
       " 92938: 6948,\n",
       " 574: 5598,\n",
       " 575: 669,\n",
       " 577: 5993,\n",
       " 579: 9430,\n",
       " 580: 2440,\n",
       " 581: 4039,\n",
       " 583: 9431,\n",
       " 131656: 6141,\n",
       " 585: 2500,\n",
       " 586: 827,\n",
       " 587: 670,\n",
       " 588: 322,\n",
       " 589: 478,\n",
       " 590: 32,\n",
       " 592: 33,\n",
       " 593: 34,\n",
       " 594: 479,\n",
       " 595: 323,\n",
       " 596: 35,\n",
       " 597: 480,\n",
       " 599: 324,\n",
       " 600: 5291,\n",
       " 602: 9357,\n",
       " 98908: 7871,\n",
       " 605: 2412,\n",
       " 606: 671,\n",
       " 608: 36,\n",
       " 609: 672,\n",
       " 610: 1421,\n",
       " 611: 1422,\n",
       " 612: 2413,\n",
       " 613: 2441,\n",
       " 615: 8984,\n",
       " 616: 673,\n",
       " 617: 4040,\n",
       " 618: 6716,\n",
       " 619: 6182,\n",
       " 626: 8738,\n",
       " 627: 829,\n",
       " 628: 674,\n",
       " 631: 675,\n",
       " 632: 9432,\n",
       " 633: 8758,\n",
       " 634: 5019,\n",
       " 635: 2170,\n",
       " 636: 9415,\n",
       " 637: 676,\n",
       " 638: 8154,\n",
       " 639: 2554,\n",
       " 640: 677,\n",
       " 131714: 4720,\n",
       " 32875: 2799,\n",
       " 645: 9358,\n",
       " 647: 260,\n",
       " 648: 37,\n",
       " 649: 9359,\n",
       " 650: 7423,\n",
       " 131724: 258,\n",
       " 653: 1158,\n",
       " 656: 4699,\n",
       " 98961: 2410,\n",
       " 661: 38,\n",
       " 662: 678,\n",
       " 663: 2658,\n",
       " 665: 4258,\n",
       " 667: 679,\n",
       " 668: 5558,\n",
       " 33437: 3367,\n",
       " 670: 7414,\n",
       " 671: 1423,\n",
       " 673: 39,\n",
       " 674: 1424,\n",
       " 131749: 4799,\n",
       " 678: 1095,\n",
       " 679: 5599,\n",
       " 680: 6706,\n",
       " 685: 2509,\n",
       " 688: 261,\n",
       " 691: 3690,\n",
       " 692: 5699,\n",
       " 694: 680,\n",
       " 695: 7376,\n",
       " 697: 681,\n",
       " 698: 5573,\n",
       " 700: 682,\n",
       " 99005: 7872,\n",
       " 99007: 4560,\n",
       " 704: 683,\n",
       " 706: 8078,\n",
       " 707: 3003,\n",
       " 708: 325,\n",
       " 709: 684,\n",
       " 710: 685,\n",
       " 711: 686,\n",
       " 714: 2171,\n",
       " 715: 2442,\n",
       " 718: 5105,\n",
       " 719: 687,\n",
       " 720: 262,\n",
       " 722: 3691,\n",
       " 724: 1425,\n",
       " 33493: 808,\n",
       " 726: 3692,\n",
       " 33495: 2708,\n",
       " 728: 3004,\n",
       " 33499: 5243,\n",
       " 733: 40,\n",
       " 735: 4041,\n",
       " 736: 41,\n",
       " 737: 2659,\n",
       " 741: 2072,\n",
       " 742: 1426,\n",
       " 743: 1427,\n",
       " 745: 1096,\n",
       " 747: 688,\n",
       " 748: 2995,\n",
       " 750: 722,\n",
       " 131826: 3943,\n",
       " 757: 6020,\n",
       " 759: 326,\n",
       " 760: 5292,\n",
       " 66297: 5265,\n",
       " 762: 689,\n",
       " 764: 5048,\n",
       " 765: 690,\n",
       " 766: 4042,\n",
       " 773: 6726,\n",
       " 66310: 9615,\n",
       " 775: 691,\n",
       " 778: 1159,\n",
       " 779: 4664,\n",
       " 780: 42,\n",
       " 781: 2896,\n",
       " 782: 2555,\n",
       " 783: 692,\n",
       " 784: 1025,\n",
       " 785: 1429,\n",
       " 786: 2426,\n",
       " 788: 1430,\n",
       " 33558: 2286,\n",
       " 791: 4043,\n",
       " 795: 693,\n",
       " 33564: 5160,\n",
       " 798: 1431,\n",
       " 799: 694,\n",
       " 800: 327,\n",
       " 801: 695,\n",
       " 802: 696,\n",
       " 803: 9360,\n",
       " 804: 43,\n",
       " 805: 2443,\n",
       " 806: 8991,\n",
       " 164647: 8061,\n",
       " 808: 2141,\n",
       " 809: 5700,\n",
       " 99114: 251,\n",
       " 99117: 3871,\n",
       " 164655: 8129,\n",
       " 818: 697,\n",
       " 823: 6727,\n",
       " 824: 7415,\n",
       " 99130: 3873,\n",
       " 828: 2655,\n",
       " 829: 1433,\n",
       " 830: 698,\n",
       " 832: 1434,\n",
       " 833: 2660,\n",
       " 835: 699,\n",
       " 836: 2661,\n",
       " 837: 700,\n",
       " 838: 701,\n",
       " 839: 702,\n",
       " 840: 5021,\n",
       " 99145: 4355,\n",
       " 842: 703,\n",
       " 99149: 3098,\n",
       " 33615: 1239,\n",
       " 848: 704,\n",
       " 849: 263,\n",
       " 851: 2172,\n",
       " 852: 705,\n",
       " 858: 1027,\n",
       " 861: 3005,\n",
       " 131934: 7236,\n",
       " 866: 1435,\n",
       " 867: 706,\n",
       " 869: 5049,\n",
       " 870: 5701,\n",
       " 33639: 5918,\n",
       " 109372: 7916,\n",
       " 875: 3278,\n",
       " 33644: 7143,\n",
       " 65682: 2386,\n",
       " 33646: 2982,\n",
       " 879: 1436,\n",
       " 880: 707,\n",
       " 881: 708,\n",
       " 882: 7090,\n",
       " 885: 5022,\n",
       " 886: 6183,\n",
       " 99191: 8807,\n",
       " 888: 709,\n",
       " 889: 2662,\n",
       " 891: 710,\n",
       " 892: 328,\n",
       " 893: 4861,\n",
       " 65685: 7221,\n",
       " 896: 4044,\n",
       " 897: 3006,\n",
       " 898: 329,\n",
       " 899: 330,\n",
       " 900: 3693,\n",
       " 901: 3727,\n",
       " 902: 331,\n",
       " 903: 1437,\n",
       " 904: 332,\n",
       " 905: 3728,\n",
       " 906: 1438,\n",
       " 907: 8155,\n",
       " 908: 333,\n",
       " 909: 2753,\n",
       " 910: 334,\n",
       " 33679: 894,\n",
       " 912: 335,\n",
       " 913: 1097,\n",
       " 914: 264,\n",
       " 915: 1440,\n",
       " 916: 2996,\n",
       " 917: 5994,\n",
       " 918: 3729,\n",
       " 919: 44,\n",
       " 920: 336,\n",
       " 921: 1441,\n",
       " 922: 830,\n",
       " 923: 45,\n",
       " 924: 723,\n",
       " 926: 3542,\n",
       " 927: 5689,\n",
       " 928: 3052,\n",
       " 929: 8156,\n",
       " 930: 337,\n",
       " 931: 1442,\n",
       " 932: 3279,\n",
       " 933: 1443,\n",
       " 934: 2664,\n",
       " 935: 4259,\n",
       " 936: 3730,\n",
       " 937: 338,\n",
       " 938: 4218,\n",
       " 940: 46,\n",
       " 941: 7729,\n",
       " 942: 3007,\n",
       " 943: 47,\n",
       " 944: 6541,\n",
       " 945: 3731,\n",
       " 946: 3732,\n",
       " 947: 3733,\n",
       " 948: 3694,\n",
       " 949: 3543,\n",
       " 950: 3734,\n",
       " 951: 3008,\n",
       " 952: 5495,\n",
       " 953: 2394,\n",
       " 954: 48,\n",
       " 955: 3009,\n",
       " 956: 8157,\n",
       " 33725: 7619,\n",
       " 959: 8158,\n",
       " 961: 9433,\n",
       " 963: 6364,\n",
       " 965: 1444,\n",
       " 968: 3168,\n",
       " 969: 2142,\n",
       " 970: 8159,\n",
       " 971: 3695,\n",
       " 66509: 5974,\n",
       " 132046: 4216,\n",
       " 66511: 4701,\n",
       " 976: 8160,\n",
       " 979: 711,\n",
       " 981: 712,\n",
       " 982: 8161,\n",
       " 984: 1445,\n",
       " 986: 713,\n",
       " 987: 3696,\n",
       " 988: 6161,\n",
       " 990: 5106,\n",
       " 131237: 4392,\n",
       " 993: 8162,\n",
       " 994: 2444,\n",
       " 996: 715,\n",
       " 998: 6485,\n",
       " 999: 716,\n",
       " 1003: 7209,\n",
       " 1004: 717,\n",
       " 1005: 2665,\n",
       " 1006: 718,\n",
       " 1007: 5702,\n",
       " 1008: 6365,\n",
       " 1009: 49,\n",
       " 1010: 1768,\n",
       " 1011: 2897,\n",
       " 1012: 1769,\n",
       " 1013: 1770,\n",
       " 1014: 2898,\n",
       " 1015: 1771,\n",
       " 1016: 1446,\n",
       " 1017: 3280,\n",
       " 1018: 1772,\n",
       " 1019: 3281,\n",
       " 1020: 1160,\n",
       " 1021: 1447,\n",
       " 1022: 1773,\n",
       " 1023: 50,\n",
       " 1024: 51,\n",
       " 1025: 52,\n",
       " 33794: 809,\n",
       " 1027: 2445,\n",
       " 1028: 862,\n",
       " 1029: 53,\n",
       " 1030: 54,\n",
       " 1031: 55,\n",
       " 1032: 56,\n",
       " 1033: 2666,\n",
       " 1034: 4045,\n",
       " 1035: 1774,\n",
       " 1036: 1134,\n",
       " 1037: 831,\n",
       " 1040: 7424,\n",
       " 164881: 4831,\n",
       " 1042: 57,\n",
       " 1043: 4665,\n",
       " 1046: 339,\n",
       " 1047: 1448,\n",
       " 1049: 58,\n",
       " 1050: 2073,\n",
       " 1051: 5182,\n",
       " 1053: 9361,\n",
       " 1054: 9562,\n",
       " 1055: 5575,\n",
       " 1056: 2446,\n",
       " 1057: 340,\n",
       " 33826: 7620,\n",
       " 1059: 1161,\n",
       " 1060: 59,\n",
       " 1061: 719,\n",
       " 33830: 3775,\n",
       " 1064: 720,\n",
       " 1066: 4834,\n",
       " 33836: 810,\n",
       " 164909: 2032,\n",
       " 33838: 7621,\n",
       " 1073: 60,\n",
       " 1077: 341,\n",
       " 1078: 5050,\n",
       " 1079: 342,\n",
       " 1080: 61,\n",
       " 1081: 1449,\n",
       " 1082: 721,\n",
       " 1083: 2143,\n",
       " 1084: 343,\n",
       " 132157: 2011,\n",
       " 1086: 344,\n",
       " 1088: 863,\n",
       " 1089: 62,\n",
       " 1090: 63,\n",
       " 1091: 3697,\n",
       " 1092: 64,\n",
       " 1093: 265,\n",
       " 1094: 345,\n",
       " 1095: 832,\n",
       " 1096: 3169,\n",
       " 1097: 65,\n",
       " 1099: 2414,\n",
       " 1100: 975,\n",
       " 1101: 724,\n",
       " 1103: 346,\n",
       " 1104: 2427,\n",
       " 1105: 2656,\n",
       " 1107: 5107,\n",
       " 1111: 4260,\n",
       " 33880: 5189,\n",
       " 1114: 8992,\n",
       " 1116: 4046,\n",
       " 1117: 9434,\n",
       " 1119: 9362,\n",
       " 1120: 2173,\n",
       " 1121: 7425,\n",
       " 98491: 3164,\n",
       " 1124: 266,\n",
       " 1125: 2997,\n",
       " 1126: 5704,\n",
       " 1127: 66,\n",
       " 33896: 5540,\n",
       " 1129: 1450,\n",
       " 1130: 5828,\n",
       " 1131: 3698,\n",
       " 1132: 3699,\n",
       " 99437: 4788,\n",
       " 1135: 3700,\n",
       " 1136: 67,\n",
       " 1137: 4047,\n",
       " 1140: 3712,\n",
       " 1144: 4048,\n",
       " 1147: 1098,\n",
       " 1148: 1099,\n",
       " 1150: 7377,\n",
       " 1151: 3053,\n",
       " 1156: 9435,\n",
       " 1161: 7250,\n",
       " 1162: 5051,\n",
       " 1163: 5108,\n",
       " 1167: 6352,\n",
       " 1170: 8582,\n",
       " 1171: 2174,\n",
       " 1172: 3498,\n",
       " 1173: 1005,\n",
       " 1175: 2074,\n",
       " 1176: 5600,\n",
       " 1177: 2447,\n",
       " 1178: 4261,\n",
       " 1179: 347,\n",
       " 1180: 8147,\n",
       " 1183: 348,\n",
       " 1184: 3010,\n",
       " 1185: 3545,\n",
       " 1186: 1100,\n",
       " 1187: 3701,\n",
       " 1188: 349,\n",
       " 1189: 3607,\n",
       " 1190: 3702,\n",
       " 1191: 2556,\n",
       " 1192: 3608,\n",
       " 1193: 1101,\n",
       " 1194: 3703,\n",
       " 98503: 9248,\n",
       " 1196: 68,\n",
       " 1197: 69,\n",
       " 1198: 70,\n",
       " 1199: 350,\n",
       " 1200: 1028,\n",
       " 1201: 1102,\n",
       " 1202: 3136,\n",
       " 1203: 351,\n",
       " 1204: 2395,\n",
       " 1206: 71,\n",
       " 1207: 1103,\n",
       " 1208: 72,\n",
       " 1209: 1135,\n",
       " 1210: 73,\n",
       " 1211: 352,\n",
       " 1212: 1162,\n",
       " 1213: 74,\n",
       " 1214: 75,\n",
       " 1215: 1451,\n",
       " 1216: 3220,\n",
       " 1217: 2075,\n",
       " 1218: 2076,\n",
       " 1219: 76,\n",
       " 1220: 77,\n",
       " 1221: 1136,\n",
       " 1222: 78,\n",
       " 1223: 1104,\n",
       " 1224: 79,\n",
       " 1225: 353,\n",
       " 1226: 80,\n",
       " 1227: 1163,\n",
       " 1228: 1137,\n",
       " 1230: 1105,\n",
       " 1231: 2415,\n",
       " 1232: 2077,\n",
       " 1233: 2078,\n",
       " 1234: 1138,\n",
       " 1235: 2899,\n",
       " 1236: 5833,\n",
       " 1237: 2079,\n",
       " 1238: 1452,\n",
       " 1240: 81,\n",
       " 1241: 4055,\n",
       " 1242: 2396,\n",
       " 1243: 2080,\n",
       " 1244: 2900,\n",
       " 1245: 1164,\n",
       " 1246: 725,\n",
       " 1247: 864,\n",
       " 1248: 2081,\n",
       " 1249: 2082,\n",
       " 1250: 354,\n",
       " 1251: 2754,\n",
       " ...}"
      ]
     },
     "execution_count": 37,
     "metadata": {},
     "output_type": "execute_result"
    }
   ],
   "source": [
    "movieid2idx"
   ]
  },
  {
   "cell_type": "markdown",
   "metadata": {
    "hidden": true
   },
   "source": [
    "We update the movie and user ids so that they are contiguous integers, which we want when using embeddings."
   ]
  },
  {
   "cell_type": "code",
   "execution_count": 34,
   "metadata": {},
   "outputs": [
    {
     "data": {
      "text/html": [
       "<div>\n",
       "<style>\n",
       "    .dataframe thead tr:only-child th {\n",
       "        text-align: right;\n",
       "    }\n",
       "\n",
       "    .dataframe thead th {\n",
       "        text-align: left;\n",
       "    }\n",
       "\n",
       "    .dataframe tbody tr th {\n",
       "        vertical-align: top;\n",
       "    }\n",
       "</style>\n",
       "<table border=\"1\" class=\"dataframe\">\n",
       "  <thead>\n",
       "    <tr style=\"text-align: right;\">\n",
       "      <th></th>\n",
       "      <th>userId</th>\n",
       "      <th>movieId</th>\n",
       "      <th>rating</th>\n",
       "      <th>timestamp</th>\n",
       "    </tr>\n",
       "  </thead>\n",
       "  <tbody>\n",
       "    <tr>\n",
       "      <th>0</th>\n",
       "      <td>1</td>\n",
       "      <td>1</td>\n",
       "      <td>4.0</td>\n",
       "      <td>964982703</td>\n",
       "    </tr>\n",
       "    <tr>\n",
       "      <th>1</th>\n",
       "      <td>1</td>\n",
       "      <td>3</td>\n",
       "      <td>4.0</td>\n",
       "      <td>964981247</td>\n",
       "    </tr>\n",
       "    <tr>\n",
       "      <th>2</th>\n",
       "      <td>1</td>\n",
       "      <td>6</td>\n",
       "      <td>4.0</td>\n",
       "      <td>964982224</td>\n",
       "    </tr>\n",
       "  </tbody>\n",
       "</table>\n",
       "</div>"
      ],
      "text/plain": [
       "   userId  movieId  rating  timestamp\n",
       "0       1        1     4.0  964982703\n",
       "1       1        3     4.0  964981247\n",
       "2       1        6     4.0  964982224"
      ]
     },
     "execution_count": 34,
     "metadata": {},
     "output_type": "execute_result"
    }
   ],
   "source": [
    "ratings.head(3)"
   ]
  },
  {
   "cell_type": "code",
   "execution_count": 35,
   "metadata": {
    "collapsed": true,
    "hidden": true
   },
   "outputs": [],
   "source": [
    "ratings.movieId = ratings.movieId.apply(lambda x: movieid2idx[x])\n",
    "ratings.userId = ratings.userId.apply(lambda x: userid2idx[x])"
   ]
  },
  {
   "cell_type": "code",
   "execution_count": 36,
   "metadata": {},
   "outputs": [
    {
     "data": {
      "text/html": [
       "<div>\n",
       "<style>\n",
       "    .dataframe thead tr:only-child th {\n",
       "        text-align: right;\n",
       "    }\n",
       "\n",
       "    .dataframe thead th {\n",
       "        text-align: left;\n",
       "    }\n",
       "\n",
       "    .dataframe tbody tr th {\n",
       "        vertical-align: top;\n",
       "    }\n",
       "</style>\n",
       "<table border=\"1\" class=\"dataframe\">\n",
       "  <thead>\n",
       "    <tr style=\"text-align: right;\">\n",
       "      <th></th>\n",
       "      <th>userId</th>\n",
       "      <th>movieId</th>\n",
       "      <th>rating</th>\n",
       "      <th>timestamp</th>\n",
       "    </tr>\n",
       "  </thead>\n",
       "  <tbody>\n",
       "    <tr>\n",
       "      <th>0</th>\n",
       "      <td>0</td>\n",
       "      <td>0</td>\n",
       "      <td>4.0</td>\n",
       "      <td>964982703</td>\n",
       "    </tr>\n",
       "    <tr>\n",
       "      <th>1</th>\n",
       "      <td>0</td>\n",
       "      <td>1</td>\n",
       "      <td>4.0</td>\n",
       "      <td>964981247</td>\n",
       "    </tr>\n",
       "    <tr>\n",
       "      <th>2</th>\n",
       "      <td>0</td>\n",
       "      <td>2</td>\n",
       "      <td>4.0</td>\n",
       "      <td>964982224</td>\n",
       "    </tr>\n",
       "  </tbody>\n",
       "</table>\n",
       "</div>"
      ],
      "text/plain": [
       "   userId  movieId  rating  timestamp\n",
       "0       0        0     4.0  964982703\n",
       "1       0        1     4.0  964981247\n",
       "2       0        2     4.0  964982224"
      ]
     },
     "execution_count": 36,
     "metadata": {},
     "output_type": "execute_result"
    }
   ],
   "source": [
    "ratings.head(3)"
   ]
  },
  {
   "cell_type": "code",
   "execution_count": 40,
   "metadata": {
    "hidden": true
   },
   "outputs": [
    {
     "data": {
      "text/plain": [
       "(0, 670, 0, 9065)"
      ]
     },
     "execution_count": 40,
     "metadata": {},
     "output_type": "execute_result"
    }
   ],
   "source": [
    "user_min, user_max, movie_min, movie_max = (ratings.userId.min(), \n",
    "    ratings.userId.max(), ratings.movieId.min(), ratings.movieId.max())\n",
    "user_min, user_max, movie_min, movie_max"
   ]
  },
  {
   "cell_type": "code",
   "execution_count": 73,
   "metadata": {
    "hidden": true
   },
   "outputs": [
    {
     "data": {
      "text/plain": [
       "(610, 9724)"
      ]
     },
     "execution_count": 73,
     "metadata": {},
     "output_type": "execute_result"
    }
   ],
   "source": [
    "n_users = ratings.userId.nunique()\n",
    "n_movies = ratings.movieId.nunique()\n",
    "n_users, n_movies"
   ]
  },
  {
   "cell_type": "markdown",
   "metadata": {
    "hidden": true
   },
   "source": [
    "This is the number of latent factors in each embedding."
   ]
  },
  {
   "cell_type": "code",
   "execution_count": 74,
   "metadata": {
    "collapsed": true,
    "hidden": true
   },
   "outputs": [],
   "source": [
    "n_factors = 50"
   ]
  },
  {
   "cell_type": "code",
   "execution_count": 75,
   "metadata": {
    "collapsed": true,
    "hidden": true
   },
   "outputs": [],
   "source": [
    "np.random.seed = 42"
   ]
  },
  {
   "cell_type": "markdown",
   "metadata": {
    "hidden": true
   },
   "source": [
    "Randomly split into training and validation."
   ]
  },
  {
   "cell_type": "code",
   "execution_count": 79,
   "metadata": {
    "collapsed": true,
    "hidden": true
   },
   "outputs": [],
   "source": [
    "msk = np.random.rand(len(ratings)) < 0.8\n",
    "trn = ratings[msk]\n",
    "val = ratings[~msk]"
   ]
  },
  {
   "cell_type": "markdown",
   "metadata": {
    "heading_collapsed": true
   },
   "source": [
    "## Create subset for Excel"
   ]
  },
  {
   "cell_type": "markdown",
   "metadata": {
    "hidden": true
   },
   "source": [
    "We create a crosstab of the most popular movies and most movie-addicted users which we'll copy into Excel for creating a simple example. This isn't necessary for any of the modeling below however."
   ]
  },
  {
   "cell_type": "code",
   "execution_count": 42,
   "metadata": {},
   "outputs": [
    {
     "data": {
      "text/html": [
       "<div>\n",
       "<style>\n",
       "    .dataframe thead tr:only-child th {\n",
       "        text-align: right;\n",
       "    }\n",
       "\n",
       "    .dataframe thead th {\n",
       "        text-align: left;\n",
       "    }\n",
       "\n",
       "    .dataframe tbody tr th {\n",
       "        vertical-align: top;\n",
       "    }\n",
       "</style>\n",
       "<table border=\"1\" class=\"dataframe\">\n",
       "  <thead>\n",
       "    <tr style=\"text-align: right;\">\n",
       "      <th></th>\n",
       "      <th>userId</th>\n",
       "      <th>movieId</th>\n",
       "      <th>rating</th>\n",
       "      <th>timestamp</th>\n",
       "    </tr>\n",
       "  </thead>\n",
       "  <tbody>\n",
       "    <tr>\n",
       "      <th>0</th>\n",
       "      <td>0</td>\n",
       "      <td>0</td>\n",
       "      <td>4.0</td>\n",
       "      <td>964982703</td>\n",
       "    </tr>\n",
       "    <tr>\n",
       "      <th>1</th>\n",
       "      <td>0</td>\n",
       "      <td>1</td>\n",
       "      <td>4.0</td>\n",
       "      <td>964981247</td>\n",
       "    </tr>\n",
       "    <tr>\n",
       "      <th>2</th>\n",
       "      <td>0</td>\n",
       "      <td>2</td>\n",
       "      <td>4.0</td>\n",
       "      <td>964982224</td>\n",
       "    </tr>\n",
       "  </tbody>\n",
       "</table>\n",
       "</div>"
      ],
      "text/plain": [
       "   userId  movieId  rating  timestamp\n",
       "0       0        0     4.0  964982703\n",
       "1       0        1     4.0  964981247\n",
       "2       0        2     4.0  964982224"
      ]
     },
     "execution_count": 42,
     "metadata": {},
     "output_type": "execute_result"
    }
   ],
   "source": [
    "ratings.head(3)"
   ]
  },
  {
   "cell_type": "code",
   "execution_count": 46,
   "metadata": {},
   "outputs": [
    {
     "data": {
      "text/plain": [
       "userId\n",
       "0    232\n",
       "1     29\n",
       "2     39\n",
       "Name: rating, dtype: int64"
      ]
     },
     "execution_count": 46,
     "metadata": {},
     "output_type": "execute_result"
    }
   ],
   "source": [
    "ratings.groupby('userId')['rating'].count()[:3]"
   ]
  },
  {
   "cell_type": "code",
   "execution_count": 49,
   "metadata": {
    "collapsed": true,
    "hidden": true
   },
   "outputs": [],
   "source": [
    "g=ratings.groupby('userId')['rating'].count()\n",
    "topUsers=g.sort_values(ascending=False)[:15]"
   ]
  },
  {
   "cell_type": "code",
   "execution_count": 48,
   "metadata": {
    "collapsed": true,
    "hidden": true
   },
   "outputs": [],
   "source": [
    "g=ratings.groupby('movieId')['rating'].count()\n",
    "topMovies=g.sort_values(ascending=False)[:15]"
   ]
  },
  {
   "cell_type": "code",
   "execution_count": 50,
   "metadata": {
    "hidden": true
   },
   "outputs": [],
   "source": [
    "top_r = ratings.join(topUsers, rsuffix='_r', how='inner', on='userId')"
   ]
  },
  {
   "cell_type": "code",
   "execution_count": 55,
   "metadata": {},
   "outputs": [
    {
     "data": {
      "text/html": [
       "<div>\n",
       "<style>\n",
       "    .dataframe thead tr:only-child th {\n",
       "        text-align: right;\n",
       "    }\n",
       "\n",
       "    .dataframe thead th {\n",
       "        text-align: left;\n",
       "    }\n",
       "\n",
       "    .dataframe tbody tr th {\n",
       "        vertical-align: top;\n",
       "    }\n",
       "</style>\n",
       "<table border=\"1\" class=\"dataframe\">\n",
       "  <thead>\n",
       "    <tr style=\"text-align: right;\">\n",
       "      <th></th>\n",
       "      <th>userId</th>\n",
       "      <th>movieId</th>\n",
       "      <th>rating</th>\n",
       "      <th>timestamp</th>\n",
       "      <th>rating_r</th>\n",
       "    </tr>\n",
       "  </thead>\n",
       "  <tbody>\n",
       "    <tr>\n",
       "      <th>10360</th>\n",
       "      <td>67</td>\n",
       "      <td>0</td>\n",
       "      <td>2.5</td>\n",
       "      <td>1158531426</td>\n",
       "      <td>1260</td>\n",
       "    </tr>\n",
       "    <tr>\n",
       "      <th>10361</th>\n",
       "      <td>67</td>\n",
       "      <td>481</td>\n",
       "      <td>2.5</td>\n",
       "      <td>1158532776</td>\n",
       "      <td>1260</td>\n",
       "    </tr>\n",
       "    <tr>\n",
       "      <th>10362</th>\n",
       "      <td>67</td>\n",
       "      <td>1</td>\n",
       "      <td>2.0</td>\n",
       "      <td>1158533415</td>\n",
       "      <td>1260</td>\n",
       "    </tr>\n",
       "  </tbody>\n",
       "</table>\n",
       "</div>"
      ],
      "text/plain": [
       "       userId  movieId  rating   timestamp  rating_r\n",
       "10360      67        0     2.5  1158531426      1260\n",
       "10361      67      481     2.5  1158532776      1260\n",
       "10362      67        1     2.0  1158533415      1260"
      ]
     },
     "execution_count": 55,
     "metadata": {},
     "output_type": "execute_result"
    }
   ],
   "source": [
    "top_r.head(3)"
   ]
  },
  {
   "cell_type": "code",
   "execution_count": 56,
   "metadata": {
    "collapsed": true,
    "hidden": true
   },
   "outputs": [],
   "source": [
    "top_r = top_r.join(topMovies, rsuffix='_r', how='inner', on='movieId')"
   ]
  },
  {
   "cell_type": "code",
   "execution_count": 57,
   "metadata": {},
   "outputs": [
    {
     "data": {
      "text/html": [
       "<div>\n",
       "<style>\n",
       "    .dataframe thead tr:only-child th {\n",
       "        text-align: right;\n",
       "    }\n",
       "\n",
       "    .dataframe thead th {\n",
       "        text-align: left;\n",
       "    }\n",
       "\n",
       "    .dataframe tbody tr th {\n",
       "        vertical-align: top;\n",
       "    }\n",
       "</style>\n",
       "<table border=\"1\" class=\"dataframe\">\n",
       "  <thead>\n",
       "    <tr style=\"text-align: right;\">\n",
       "      <th></th>\n",
       "      <th>userId</th>\n",
       "      <th>movieId</th>\n",
       "      <th>rating</th>\n",
       "      <th>timestamp</th>\n",
       "      <th>rating_r</th>\n",
       "      <th>rating_r</th>\n",
       "    </tr>\n",
       "  </thead>\n",
       "  <tbody>\n",
       "    <tr>\n",
       "      <th>10360</th>\n",
       "      <td>67</td>\n",
       "      <td>0</td>\n",
       "      <td>2.5</td>\n",
       "      <td>1158531426</td>\n",
       "      <td>1260</td>\n",
       "      <td>215</td>\n",
       "    </tr>\n",
       "    <tr>\n",
       "      <th>26092</th>\n",
       "      <td>181</td>\n",
       "      <td>0</td>\n",
       "      <td>4.0</td>\n",
       "      <td>1063289621</td>\n",
       "      <td>977</td>\n",
       "      <td>215</td>\n",
       "    </tr>\n",
       "    <tr>\n",
       "      <th>36374</th>\n",
       "      <td>248</td>\n",
       "      <td>0</td>\n",
       "      <td>4.0</td>\n",
       "      <td>1347317775</td>\n",
       "      <td>1046</td>\n",
       "      <td>215</td>\n",
       "    </tr>\n",
       "  </tbody>\n",
       "</table>\n",
       "</div>"
      ],
      "text/plain": [
       "       userId  movieId  rating   timestamp  rating_r  rating_r\n",
       "10360      67        0     2.5  1158531426      1260       215\n",
       "26092     181        0     4.0  1063289621       977       215\n",
       "36374     248        0     4.0  1347317775      1046       215"
      ]
     },
     "execution_count": 57,
     "metadata": {},
     "output_type": "execute_result"
    }
   ],
   "source": [
    "top_r.head(3)"
   ]
  },
  {
   "cell_type": "code",
   "execution_count": 70,
   "metadata": {
    "hidden": true,
    "scrolled": true
   },
   "outputs": [
    {
     "data": {
      "text/html": [
       "<div>\n",
       "<style>\n",
       "    .dataframe thead tr:only-child th {\n",
       "        text-align: right;\n",
       "    }\n",
       "\n",
       "    .dataframe thead th {\n",
       "        text-align: left;\n",
       "    }\n",
       "\n",
       "    .dataframe tbody tr th {\n",
       "        vertical-align: top;\n",
       "    }\n",
       "</style>\n",
       "<table border=\"1\" class=\"dataframe\">\n",
       "  <thead>\n",
       "    <tr style=\"text-align: right;\">\n",
       "      <th>movieId</th>\n",
       "      <th>0</th>\n",
       "      <th>4</th>\n",
       "      <th>7</th>\n",
       "      <th>15</th>\n",
       "      <th>16</th>\n",
       "      <th>20</th>\n",
       "      <th>26</th>\n",
       "      <th>28</th>\n",
       "      <th>34</th>\n",
       "      <th>68</th>\n",
       "      <th>166</th>\n",
       "      <th>184</th>\n",
       "      <th>192</th>\n",
       "      <th>232</th>\n",
       "      <th>478</th>\n",
       "    </tr>\n",
       "    <tr>\n",
       "      <th>userId</th>\n",
       "      <th></th>\n",
       "      <th></th>\n",
       "      <th></th>\n",
       "      <th></th>\n",
       "      <th></th>\n",
       "      <th></th>\n",
       "      <th></th>\n",
       "      <th></th>\n",
       "      <th></th>\n",
       "      <th></th>\n",
       "      <th></th>\n",
       "      <th></th>\n",
       "      <th></th>\n",
       "      <th></th>\n",
       "      <th></th>\n",
       "    </tr>\n",
       "  </thead>\n",
       "  <tbody>\n",
       "    <tr>\n",
       "      <th>67</th>\n",
       "      <td>2.5</td>\n",
       "      <td>3.0</td>\n",
       "      <td>2.5</td>\n",
       "      <td>5.0</td>\n",
       "      <td>2.0</td>\n",
       "      <td>3.5</td>\n",
       "      <td>3.5</td>\n",
       "      <td>4.0</td>\n",
       "      <td>3.5</td>\n",
       "      <td>5.0</td>\n",
       "      <td>4.5</td>\n",
       "      <td>5.0</td>\n",
       "      <td>2.5</td>\n",
       "      <td>3.0</td>\n",
       "      <td>3.5</td>\n",
       "    </tr>\n",
       "    <tr>\n",
       "      <th>181</th>\n",
       "      <td>4.0</td>\n",
       "      <td>4.5</td>\n",
       "      <td>3.5</td>\n",
       "      <td>3.5</td>\n",
       "      <td>5.0</td>\n",
       "      <td>5.0</td>\n",
       "      <td>3.5</td>\n",
       "      <td>4.0</td>\n",
       "      <td>4.5</td>\n",
       "      <td>3.0</td>\n",
       "      <td>5.0</td>\n",
       "      <td>5.0</td>\n",
       "      <td>5.0</td>\n",
       "      <td>4.5</td>\n",
       "      <td>2.0</td>\n",
       "    </tr>\n",
       "    <tr>\n",
       "      <th>248</th>\n",
       "      <td>4.0</td>\n",
       "      <td>4.0</td>\n",
       "      <td>5.0</td>\n",
       "      <td>5.0</td>\n",
       "      <td>4.0</td>\n",
       "      <td>4.5</td>\n",
       "      <td>4.0</td>\n",
       "      <td>4.5</td>\n",
       "      <td>4.0</td>\n",
       "      <td>5.0</td>\n",
       "      <td>5.0</td>\n",
       "      <td>4.5</td>\n",
       "      <td>5.0</td>\n",
       "      <td>4.5</td>\n",
       "      <td>4.0</td>\n",
       "    </tr>\n",
       "    <tr>\n",
       "      <th>273</th>\n",
       "      <td>4.0</td>\n",
       "      <td>4.0</td>\n",
       "      <td>4.5</td>\n",
       "      <td>3.0</td>\n",
       "      <td>5.0</td>\n",
       "      <td>4.5</td>\n",
       "      <td>3.5</td>\n",
       "      <td>4.0</td>\n",
       "      <td>4.0</td>\n",
       "      <td>4.5</td>\n",
       "      <td>4.0</td>\n",
       "      <td>5.0</td>\n",
       "      <td>5.0</td>\n",
       "      <td>4.5</td>\n",
       "      <td>4.5</td>\n",
       "    </tr>\n",
       "    <tr>\n",
       "      <th>287</th>\n",
       "      <td>4.5</td>\n",
       "      <td>NaN</td>\n",
       "      <td>5.0</td>\n",
       "      <td>5.0</td>\n",
       "      <td>5.0</td>\n",
       "      <td>5.0</td>\n",
       "      <td>2.0</td>\n",
       "      <td>5.0</td>\n",
       "      <td>5.0</td>\n",
       "      <td>4.5</td>\n",
       "      <td>3.0</td>\n",
       "      <td>NaN</td>\n",
       "      <td>3.5</td>\n",
       "      <td>5.0</td>\n",
       "      <td>4.0</td>\n",
       "    </tr>\n",
       "    <tr>\n",
       "      <th>306</th>\n",
       "      <td>4.0</td>\n",
       "      <td>4.5</td>\n",
       "      <td>3.5</td>\n",
       "      <td>3.5</td>\n",
       "      <td>4.5</td>\n",
       "      <td>4.0</td>\n",
       "      <td>3.5</td>\n",
       "      <td>4.5</td>\n",
       "      <td>4.5</td>\n",
       "      <td>3.0</td>\n",
       "      <td>3.5</td>\n",
       "      <td>4.0</td>\n",
       "      <td>4.0</td>\n",
       "      <td>4.5</td>\n",
       "      <td>2.5</td>\n",
       "    </tr>\n",
       "    <tr>\n",
       "      <th>379</th>\n",
       "      <td>5.0</td>\n",
       "      <td>4.0</td>\n",
       "      <td>4.0</td>\n",
       "      <td>5.0</td>\n",
       "      <td>5.0</td>\n",
       "      <td>5.0</td>\n",
       "      <td>5.0</td>\n",
       "      <td>NaN</td>\n",
       "      <td>5.0</td>\n",
       "      <td>5.0</td>\n",
       "      <td>4.5</td>\n",
       "      <td>NaN</td>\n",
       "      <td>4.0</td>\n",
       "      <td>3.0</td>\n",
       "      <td>5.0</td>\n",
       "    </tr>\n",
       "    <tr>\n",
       "      <th>386</th>\n",
       "      <td>NaN</td>\n",
       "      <td>4.5</td>\n",
       "      <td>3.5</td>\n",
       "      <td>4.5</td>\n",
       "      <td>5.0</td>\n",
       "      <td>4.0</td>\n",
       "      <td>3.0</td>\n",
       "      <td>NaN</td>\n",
       "      <td>4.0</td>\n",
       "      <td>4.5</td>\n",
       "      <td>4.0</td>\n",
       "      <td>4.5</td>\n",
       "      <td>4.5</td>\n",
       "      <td>3.5</td>\n",
       "      <td>3.5</td>\n",
       "    </tr>\n",
       "    <tr>\n",
       "      <th>413</th>\n",
       "      <td>4.0</td>\n",
       "      <td>5.0</td>\n",
       "      <td>5.0</td>\n",
       "      <td>5.0</td>\n",
       "      <td>5.0</td>\n",
       "      <td>5.0</td>\n",
       "      <td>4.0</td>\n",
       "      <td>4.0</td>\n",
       "      <td>4.0</td>\n",
       "      <td>5.0</td>\n",
       "      <td>5.0</td>\n",
       "      <td>5.0</td>\n",
       "      <td>5.0</td>\n",
       "      <td>5.0</td>\n",
       "      <td>5.0</td>\n",
       "    </tr>\n",
       "    <tr>\n",
       "      <th>447</th>\n",
       "      <td>5.0</td>\n",
       "      <td>4.0</td>\n",
       "      <td>NaN</td>\n",
       "      <td>5.0</td>\n",
       "      <td>5.0</td>\n",
       "      <td>3.0</td>\n",
       "      <td>3.0</td>\n",
       "      <td>NaN</td>\n",
       "      <td>5.0</td>\n",
       "      <td>5.0</td>\n",
       "      <td>2.0</td>\n",
       "      <td>4.0</td>\n",
       "      <td>4.0</td>\n",
       "      <td>NaN</td>\n",
       "      <td>3.0</td>\n",
       "    </tr>\n",
       "    <tr>\n",
       "      <th>473</th>\n",
       "      <td>4.0</td>\n",
       "      <td>4.0</td>\n",
       "      <td>3.0</td>\n",
       "      <td>4.0</td>\n",
       "      <td>4.0</td>\n",
       "      <td>3.0</td>\n",
       "      <td>4.5</td>\n",
       "      <td>5.0</td>\n",
       "      <td>4.5</td>\n",
       "      <td>5.0</td>\n",
       "      <td>4.5</td>\n",
       "      <td>3.5</td>\n",
       "      <td>4.0</td>\n",
       "      <td>5.0</td>\n",
       "      <td>4.0</td>\n",
       "    </tr>\n",
       "    <tr>\n",
       "      <th>598</th>\n",
       "      <td>3.0</td>\n",
       "      <td>3.5</td>\n",
       "      <td>3.5</td>\n",
       "      <td>5.0</td>\n",
       "      <td>5.0</td>\n",
       "      <td>3.5</td>\n",
       "      <td>4.0</td>\n",
       "      <td>NaN</td>\n",
       "      <td>3.0</td>\n",
       "      <td>5.0</td>\n",
       "      <td>5.0</td>\n",
       "      <td>5.0</td>\n",
       "      <td>5.0</td>\n",
       "      <td>4.0</td>\n",
       "      <td>4.5</td>\n",
       "    </tr>\n",
       "    <tr>\n",
       "      <th>602</th>\n",
       "      <td>4.0</td>\n",
       "      <td>NaN</td>\n",
       "      <td>1.0</td>\n",
       "      <td>4.0</td>\n",
       "      <td>5.0</td>\n",
       "      <td>3.0</td>\n",
       "      <td>NaN</td>\n",
       "      <td>3.0</td>\n",
       "      <td>5.0</td>\n",
       "      <td>3.0</td>\n",
       "      <td>5.0</td>\n",
       "      <td>5.0</td>\n",
       "      <td>4.0</td>\n",
       "      <td>NaN</td>\n",
       "      <td>NaN</td>\n",
       "    </tr>\n",
       "    <tr>\n",
       "      <th>605</th>\n",
       "      <td>2.5</td>\n",
       "      <td>4.5</td>\n",
       "      <td>3.5</td>\n",
       "      <td>4.5</td>\n",
       "      <td>5.0</td>\n",
       "      <td>4.0</td>\n",
       "      <td>2.5</td>\n",
       "      <td>5.0</td>\n",
       "      <td>4.5</td>\n",
       "      <td>4.5</td>\n",
       "      <td>5.0</td>\n",
       "      <td>4.5</td>\n",
       "      <td>5.0</td>\n",
       "      <td>3.5</td>\n",
       "      <td>3.5</td>\n",
       "    </tr>\n",
       "    <tr>\n",
       "      <th>609</th>\n",
       "      <td>5.0</td>\n",
       "      <td>4.0</td>\n",
       "      <td>4.5</td>\n",
       "      <td>5.0</td>\n",
       "      <td>5.0</td>\n",
       "      <td>3.0</td>\n",
       "      <td>5.0</td>\n",
       "      <td>3.5</td>\n",
       "      <td>4.5</td>\n",
       "      <td>5.0</td>\n",
       "      <td>5.0</td>\n",
       "      <td>3.5</td>\n",
       "      <td>5.0</td>\n",
       "      <td>3.0</td>\n",
       "      <td>5.0</td>\n",
       "    </tr>\n",
       "  </tbody>\n",
       "</table>\n",
       "</div>"
      ],
      "text/plain": [
       "movieId  0    4    7    15   16   20   26   28   34   68   166  184  192  232  \\\n",
       "userId                                                                          \n",
       "67       2.5  3.0  2.5  5.0  2.0  3.5  3.5  4.0  3.5  5.0  4.5  5.0  2.5  3.0   \n",
       "181      4.0  4.5  3.5  3.5  5.0  5.0  3.5  4.0  4.5  3.0  5.0  5.0  5.0  4.5   \n",
       "248      4.0  4.0  5.0  5.0  4.0  4.5  4.0  4.5  4.0  5.0  5.0  4.5  5.0  4.5   \n",
       "273      4.0  4.0  4.5  3.0  5.0  4.5  3.5  4.0  4.0  4.5  4.0  5.0  5.0  4.5   \n",
       "287      4.5  NaN  5.0  5.0  5.0  5.0  2.0  5.0  5.0  4.5  3.0  NaN  3.5  5.0   \n",
       "306      4.0  4.5  3.5  3.5  4.5  4.0  3.5  4.5  4.5  3.0  3.5  4.0  4.0  4.5   \n",
       "379      5.0  4.0  4.0  5.0  5.0  5.0  5.0  NaN  5.0  5.0  4.5  NaN  4.0  3.0   \n",
       "386      NaN  4.5  3.5  4.5  5.0  4.0  3.0  NaN  4.0  4.5  4.0  4.5  4.5  3.5   \n",
       "413      4.0  5.0  5.0  5.0  5.0  5.0  4.0  4.0  4.0  5.0  5.0  5.0  5.0  5.0   \n",
       "447      5.0  4.0  NaN  5.0  5.0  3.0  3.0  NaN  5.0  5.0  2.0  4.0  4.0  NaN   \n",
       "473      4.0  4.0  3.0  4.0  4.0  3.0  4.5  5.0  4.5  5.0  4.5  3.5  4.0  5.0   \n",
       "598      3.0  3.5  3.5  5.0  5.0  3.5  4.0  NaN  3.0  5.0  5.0  5.0  5.0  4.0   \n",
       "602      4.0  NaN  1.0  4.0  5.0  3.0  NaN  3.0  5.0  3.0  5.0  5.0  4.0  NaN   \n",
       "605      2.5  4.5  3.5  4.5  5.0  4.0  2.5  5.0  4.5  4.5  5.0  4.5  5.0  3.5   \n",
       "609      5.0  4.0  4.5  5.0  5.0  3.0  5.0  3.5  4.5  5.0  5.0  3.5  5.0  3.0   \n",
       "\n",
       "movieId  478  \n",
       "userId        \n",
       "67       3.5  \n",
       "181      2.0  \n",
       "248      4.0  \n",
       "273      4.5  \n",
       "287      4.0  \n",
       "306      2.5  \n",
       "379      5.0  \n",
       "386      3.5  \n",
       "413      5.0  \n",
       "447      3.0  \n",
       "473      4.0  \n",
       "598      4.5  \n",
       "602      NaN  \n",
       "605      3.5  \n",
       "609      5.0  "
      ]
     },
     "execution_count": 70,
     "metadata": {},
     "output_type": "execute_result"
    }
   ],
   "source": [
    "pd.crosstab(top_r.userId, top_r.movieId, top_r.rating, aggfunc=np.sum)"
   ]
  },
  {
   "cell_type": "markdown",
   "metadata": {
    "collapsed": true,
    "heading_collapsed": true
   },
   "source": [
    "## Dot product"
   ]
  },
  {
   "cell_type": "markdown",
   "metadata": {
    "hidden": true
   },
   "source": [
    "The most basic model is a dot product of a movie embedding and a user embedding. Let's see how well that works:"
   ]
  },
  {
   "cell_type": "code",
   "execution_count": 76,
   "metadata": {
    "hidden": true
   },
   "outputs": [],
   "source": [
    "user_in = Input(shape=(1,), dtype='int64', name='user_in')\n",
    "u = Embedding(n_users, n_factors, input_length=1, W_regularizer=l2(1e-4))(user_in)\n",
    "movie_in = Input(shape=(1,), dtype='int64', name='movie_in')\n",
    "m = Embedding(n_movies, n_factors, input_length=1, W_regularizer=l2(1e-4))(movie_in)"
   ]
  },
  {
   "cell_type": "code",
   "execution_count": 85,
   "metadata": {
    "hidden": true
   },
   "outputs": [],
   "source": [
    "x = merge([u, m], mode='dot')\n",
    "x = Flatten()(x)\n",
    "model = Model([user_in, movie_in], x)\n",
    "model.compile(Adam(0.001), loss='mse')"
   ]
  },
  {
   "cell_type": "code",
   "execution_count": 86,
   "metadata": {
    "hidden": true
   },
   "outputs": [
    {
     "name": "stdout",
     "output_type": "stream",
     "text": [
      "Train on 80712 samples, validate on 20124 samples\n",
      "Epoch 1/10\n",
      "80712/80712 [==============================] - 9s - loss: 3.1976 - val_loss: 2.8289\n",
      "Epoch 2/10\n",
      "80712/80712 [==============================] - 8s - loss: 2.3909 - val_loss: 2.5550\n",
      "Epoch 3/10\n",
      "80712/80712 [==============================] - 8s - loss: 2.1460 - val_loss: 2.4935\n",
      "Epoch 4/10\n",
      "80712/80712 [==============================] - 8s - loss: 2.0489 - val_loss: 2.4838\n",
      "Epoch 5/10\n",
      "80712/80712 [==============================] - 8s - loss: 1.9990 - val_loss: 2.4892\n",
      "Epoch 6/10\n",
      "80712/80712 [==============================] - 8s - loss: 1.9699 - val_loss: 2.4904\n",
      "Epoch 7/10\n",
      "80712/80712 [==============================] - 8s - loss: 1.9456 - val_loss: 2.5131ss: 1. - ETA: 0s - los\n",
      "Epoch 8/10\n",
      "80712/80712 [==============================] - 8s - loss: 1.9278 - val_loss: 2.5146\n",
      "Epoch 9/10\n",
      "80712/80712 [==============================] - 8s - loss: 1.9115 - val_loss: 2.5290\n",
      "Epoch 10/10\n",
      "80712/80712 [==============================] - 8s - loss: 1.8963 - val_loss: 2.5362\n"
     ]
    },
    {
     "data": {
      "text/plain": [
       "<keras.callbacks.History at 0x10ca0c090>"
      ]
     },
     "execution_count": 86,
     "metadata": {},
     "output_type": "execute_result"
    }
   ],
   "source": [
    "model.fit([trn.userId, trn.movieId], trn.rating, batch_size=64, nb_epoch=10, \n",
    "          validation_data=([val.userId, val.movieId], val.rating))"
   ]
  },
  {
   "cell_type": "code",
   "execution_count": 82,
   "metadata": {
    "collapsed": true,
    "hidden": true
   },
   "outputs": [],
   "source": [
    "model.optimizer.lr=0.01"
   ]
  },
  {
   "cell_type": "code",
   "execution_count": null,
   "metadata": {
    "collapsed": true,
    "hidden": true
   },
   "outputs": [],
   "source": [
    "model.fit([trn.userId, trn.movieId], trn.rating, batch_size=64, nb_epoch=3, \n",
    "          validation_data=([val.userId, val.movieId], val.rating))"
   ]
  },
  {
   "cell_type": "code",
   "execution_count": 87,
   "metadata": {
    "collapsed": true,
    "hidden": true
   },
   "outputs": [],
   "source": [
    "model.optimizer.lr=0.001"
   ]
  },
  {
   "cell_type": "code",
   "execution_count": 88,
   "metadata": {
    "hidden": true
   },
   "outputs": [
    {
     "name": "stdout",
     "output_type": "stream",
     "text": [
      "Train on 80712 samples, validate on 20124 samples\n",
      "Epoch 1/6\n",
      "80712/80712 [==============================] - 8s - loss: 1.8815 - val_loss: 2.5498\n",
      "Epoch 2/6\n",
      "80712/80712 [==============================] - 8s - loss: 1.8693 - val_loss: 2.5640\n",
      "Epoch 3/6\n",
      "80712/80712 [==============================] - 8s - loss: 1.8563 - val_loss: 2.5797\n",
      "Epoch 4/6\n",
      "80712/80712 [==============================] - 8s - loss: 1.8452 - val_loss: 2.5855\n",
      "Epoch 5/6\n",
      "80712/80712 [==============================] - 8s - loss: 1.8346 - val_loss: 2.6021\n",
      "Epoch 6/6\n",
      "80712/80712 [==============================] - 9s - loss: 1.8247 - val_loss: 2.6083\n"
     ]
    },
    {
     "data": {
      "text/plain": [
       "<keras.callbacks.History at 0x10be56450>"
      ]
     },
     "execution_count": 88,
     "metadata": {},
     "output_type": "execute_result"
    }
   ],
   "source": [
    "model.fit([trn.userId, trn.movieId], trn.rating, batch_size=64, nb_epoch=6, \n",
    "          validation_data=([val.userId, val.movieId], val.rating))"
   ]
  },
  {
   "cell_type": "markdown",
   "metadata": {
    "hidden": true
   },
   "source": [
    "The [best benchmarks](http://www.librec.net/example.html) are a bit over 0.9, so this model doesn't seem to be working that well..."
   ]
  },
  {
   "cell_type": "markdown",
   "metadata": {
    "heading_collapsed": true
   },
   "source": [
    "##  Bias"
   ]
  },
  {
   "cell_type": "markdown",
   "metadata": {
    "hidden": true
   },
   "source": [
    "The problem is likely to be that we don't have bias terms - that is, a single bias for each user and each movie representing how positive or negative each user is, and how good each movie is. We can add that easily by simply creating an embedding with one output for each movie and each user, and adding it to our output."
   ]
  },
  {
   "cell_type": "code",
   "execution_count": 89,
   "metadata": {
    "collapsed": true,
    "hidden": true
   },
   "outputs": [],
   "source": [
    "def embedding_input(name, n_in, n_out, reg):\n",
    "    inp = Input(shape=(1,), dtype='int64', name=name)\n",
    "    return inp, Embedding(n_in, n_out, input_length=1, W_regularizer=l2(reg))(inp)"
   ]
  },
  {
   "cell_type": "code",
   "execution_count": 90,
   "metadata": {
    "collapsed": true,
    "hidden": true
   },
   "outputs": [],
   "source": [
    "user_in, u = embedding_input('user_in', n_users, n_factors, 1e-4)\n",
    "movie_in, m = embedding_input('movie_in', n_movies, n_factors, 1e-4)"
   ]
  },
  {
   "cell_type": "code",
   "execution_count": 91,
   "metadata": {
    "collapsed": true,
    "hidden": true
   },
   "outputs": [],
   "source": [
    "def create_bias(inp, n_in):\n",
    "    x = Embedding(n_in, 1, input_length=1)(inp)\n",
    "    return Flatten()(x)"
   ]
  },
  {
   "cell_type": "code",
   "execution_count": 92,
   "metadata": {
    "collapsed": true,
    "hidden": true
   },
   "outputs": [],
   "source": [
    "ub = create_bias(user_in, n_users)\n",
    "mb = create_bias(movie_in, n_movies)"
   ]
  },
  {
   "cell_type": "code",
   "execution_count": 93,
   "metadata": {
    "collapsed": true,
    "hidden": true
   },
   "outputs": [],
   "source": [
    "x = merge([u, m], mode='dot')\n",
    "x = Flatten()(x)\n",
    "x = merge([x, ub], mode='sum')\n",
    "x = merge([x, mb], mode='sum')\n",
    "model = Model([user_in, movie_in], x)\n",
    "model.compile(Adam(0.001), loss='mse')"
   ]
  },
  {
   "cell_type": "code",
   "execution_count": 94,
   "metadata": {
    "hidden": true
   },
   "outputs": [
    {
     "name": "stdout",
     "output_type": "stream",
     "text": [
      "Train on 80712 samples, validate on 20124 samples\n",
      "Epoch 1/1\n",
      "80712/80712 [==============================] - 7s - loss: 8.4500 - val_loss: 3.3865\n"
     ]
    },
    {
     "data": {
      "text/plain": [
       "<keras.callbacks.History at 0x10dc5f450>"
      ]
     },
     "execution_count": 94,
     "metadata": {},
     "output_type": "execute_result"
    }
   ],
   "source": [
    "model.fit([trn.userId, trn.movieId], trn.rating, batch_size=64, nb_epoch=1, \n",
    "          validation_data=([val.userId, val.movieId], val.rating))"
   ]
  },
  {
   "cell_type": "code",
   "execution_count": 95,
   "metadata": {
    "collapsed": true,
    "hidden": true
   },
   "outputs": [],
   "source": [
    "model.optimizer.lr=0.01"
   ]
  },
  {
   "cell_type": "code",
   "execution_count": 96,
   "metadata": {
    "hidden": true
   },
   "outputs": [
    {
     "name": "stdout",
     "output_type": "stream",
     "text": [
      "Train on 80712 samples, validate on 20124 samples\n",
      "Epoch 1/6\n",
      "80712/80712 [==============================] - 9s - loss: 2.4822 - val_loss: 2.2052\n",
      "Epoch 2/6\n",
      "80712/80712 [==============================] - 8s - loss: 1.9094 - val_loss: 1.9996\n",
      "Epoch 3/6\n",
      "80712/80712 [==============================] - 8s - loss: 1.7491 - val_loss: 1.9041\n",
      "Epoch 4/6\n",
      "80712/80712 [==============================] - 8s - loss: 1.6526 - val_loss: 1.8265\n",
      "Epoch 5/6\n",
      "80712/80712 [==============================] - 8s - loss: 1.5708 - val_loss: 1.7504\n",
      "Epoch 6/6\n",
      "80712/80712 [==============================] - 9s - loss: 1.4931 - val_loss: 1.6833s\n"
     ]
    },
    {
     "data": {
      "text/plain": [
       "<keras.callbacks.History at 0x10dc5ff50>"
      ]
     },
     "execution_count": 96,
     "metadata": {},
     "output_type": "execute_result"
    }
   ],
   "source": [
    "model.fit([trn.userId, trn.movieId], trn.rating, batch_size=64, nb_epoch=6, \n",
    "          validation_data=([val.userId, val.movieId], val.rating))"
   ]
  },
  {
   "cell_type": "code",
   "execution_count": 97,
   "metadata": {
    "collapsed": true,
    "hidden": true
   },
   "outputs": [],
   "source": [
    "model.optimizer.lr=0.001"
   ]
  },
  {
   "cell_type": "code",
   "execution_count": 98,
   "metadata": {
    "hidden": true
   },
   "outputs": [
    {
     "name": "stdout",
     "output_type": "stream",
     "text": [
      "Train on 80712 samples, validate on 20124 samples\n",
      "Epoch 1/10\n",
      "80712/80712 [==============================] - 8s - loss: 1.4202 - val_loss: 1.6191\n",
      "Epoch 2/10\n",
      "80712/80712 [==============================] - 8s - loss: 1.3491 - val_loss: 1.5615\n",
      "Epoch 3/10\n",
      "80712/80712 [==============================] - 9s - loss: 1.2835 - val_loss: 1.5026\n",
      "Epoch 4/10\n",
      "80712/80712 [==============================] - 9s - loss: 1.2199 - val_loss: 1.4526\n",
      "Epoch 5/10\n",
      "80712/80712 [==============================] - 9s - loss: 1.1600 - val_loss: 1.3978\n",
      "Epoch 6/10\n",
      "80712/80712 [==============================] - 9s - loss: 1.1018 - val_loss: 1.3528\n",
      "Epoch 7/10\n",
      "80712/80712 [==============================] - 9s - loss: 1.0471 - val_loss: 1.3096\n",
      "Epoch 8/10\n",
      "80712/80712 [==============================] - 9s - loss: 0.9944 - val_loss: 1.2662\n",
      "Epoch 9/10\n",
      "80712/80712 [==============================] - 9s - loss: 0.9443 - val_loss: 1.2297\n",
      "Epoch 10/10\n",
      "80712/80712 [==============================] - 9s - loss: 0.8980 - val_loss: 1.1943\n"
     ]
    },
    {
     "data": {
      "text/plain": [
       "<keras.callbacks.History at 0x10dc5ffd0>"
      ]
     },
     "execution_count": 98,
     "metadata": {},
     "output_type": "execute_result"
    }
   ],
   "source": [
    "model.fit([trn.userId, trn.movieId], trn.rating, batch_size=64, nb_epoch=10, \n",
    "          validation_data=([val.userId, val.movieId], val.rating))"
   ]
  },
  {
   "cell_type": "code",
   "execution_count": 99,
   "metadata": {
    "hidden": true
   },
   "outputs": [
    {
     "name": "stdout",
     "output_type": "stream",
     "text": [
      "Train on 80712 samples, validate on 20124 samples\n",
      "Epoch 1/5\n",
      "80712/80712 [==============================] - 9s - loss: 0.8545 - val_loss: 1.1639\n",
      "Epoch 2/5\n",
      "80712/80712 [==============================] - 9s - loss: 0.8137 - val_loss: 1.1330\n",
      "Epoch 3/5\n",
      "80712/80712 [==============================] - 9s - loss: 0.7769 - val_loss: 1.1056\n",
      "Epoch 4/5\n",
      "80712/80712 [==============================] - 9s - loss: 0.7420 - val_loss: 1.0813\n",
      "Epoch 5/5\n",
      "80712/80712 [==============================] - 9s - loss: 0.7113 - val_loss: 1.0595\n"
     ]
    },
    {
     "data": {
      "text/plain": [
       "<keras.callbacks.History at 0x10cd54c50>"
      ]
     },
     "execution_count": 99,
     "metadata": {},
     "output_type": "execute_result"
    }
   ],
   "source": [
    "model.fit([trn.userId, trn.movieId], trn.rating, batch_size=64, nb_epoch=5, \n",
    "          validation_data=([val.userId, val.movieId], val.rating))"
   ]
  },
  {
   "cell_type": "markdown",
   "metadata": {
    "hidden": true
   },
   "source": [
    "This result is quite a bit better than the best benchmarks that we could find with a quick google search - so looks like a great approach!"
   ]
  },
  {
   "cell_type": "code",
   "execution_count": 102,
   "metadata": {
    "hidden": true
   },
   "outputs": [],
   "source": [
    "model.save_weights(model_path+'bias.h5')"
   ]
  },
  {
   "cell_type": "code",
   "execution_count": 103,
   "metadata": {
    "collapsed": true,
    "hidden": true
   },
   "outputs": [],
   "source": [
    "model.load_weights(model_path+'bias.h5')"
   ]
  },
  {
   "cell_type": "markdown",
   "metadata": {
    "hidden": true
   },
   "source": [
    "We can use the model to generate predictions by passing a pair of ints - a user id and a movie id. For instance, this predicts that user #3 would really enjoy movie #6."
   ]
  },
  {
   "cell_type": "code",
   "execution_count": 104,
   "metadata": {
    "hidden": true
   },
   "outputs": [
    {
     "data": {
      "text/plain": [
       "array([[ 2.8626]], dtype=float32)"
      ]
     },
     "execution_count": 104,
     "metadata": {},
     "output_type": "execute_result"
    }
   ],
   "source": [
    "model.predict([np.array([3]), np.array([6])])"
   ]
  },
  {
   "cell_type": "markdown",
   "metadata": {
    "heading_collapsed": true
   },
   "source": [
    "## Analyze results"
   ]
  },
  {
   "cell_type": "markdown",
   "metadata": {
    "hidden": true
   },
   "source": [
    "To make the analysis of the factors more interesting, we'll restrict it to the top 2000 most popular movies."
   ]
  },
  {
   "cell_type": "code",
   "execution_count": 105,
   "metadata": {
    "collapsed": true,
    "hidden": true
   },
   "outputs": [],
   "source": [
    "g=ratings.groupby('movieId')['rating'].count()\n",
    "topMovies=g.sort_values(ascending=False)[:2000]\n",
    "topMovies = np.array(topMovies.index)"
   ]
  },
  {
   "cell_type": "markdown",
   "metadata": {
    "hidden": true
   },
   "source": [
    "First, we'll look at the movie bias term. We create a 'model' - which in keras is simply a way of associating one or more inputs with one more more outputs, using the functional API. Here, our input is the movie id (a single id), and the output is the movie bias (a single float)."
   ]
  },
  {
   "cell_type": "code",
   "execution_count": 106,
   "metadata": {
    "collapsed": true,
    "hidden": true
   },
   "outputs": [],
   "source": [
    "get_movie_bias = Model(movie_in, mb)\n",
    "movie_bias = get_movie_bias.predict(topMovies)\n",
    "movie_ratings = [(b[0], movie_names[movies[i]]) for i,b in zip(topMovies,movie_bias)]"
   ]
  },
  {
   "cell_type": "markdown",
   "metadata": {
    "hidden": true
   },
   "source": [
    "Now we can look at the top and bottom rated movies. These ratings are corrected for different levels of reviewer sentiment, as well as different types of movies that different reviewers watch."
   ]
  },
  {
   "cell_type": "code",
   "execution_count": 107,
   "metadata": {
    "hidden": true
   },
   "outputs": [
    {
     "data": {
      "text/plain": [
       "[(-0.22009219, 'Dungeons & Dragons (2000)'),\n",
       " (-0.18777001, 'Flintstones in Viva Rock Vegas, The (2000)'),\n",
       " (-0.12927942, 'Godzilla (1998)'),\n",
       " (-0.10733531, 'Problem Child (1990)'),\n",
       " (-0.08121109, 'Karate Kid, Part III, The (1989)'),\n",
       " (-0.080039419, 'Rocky V (1990)'),\n",
       " (-0.07506524, 'Speed 2: Cruise Control (1997)'),\n",
       " (-0.062314652, 'Scary Movie 4 (2006)'),\n",
       " (-0.045858487, \"Dude, Where's My Car? (2000)\"),\n",
       " (-0.0092779212, 'Anaconda (1997)'),\n",
       " (0.0045741885, 'Ice Age: Dawn of the Dinosaurs (2009)'),\n",
       " (0.011828349, 'Inspector Gadget (1999)'),\n",
       " (0.014719239, 'Rambo III (1988)'),\n",
       " (0.02738169, 'Superman IV: The Quest for Peace (1987)'),\n",
       " (0.030597977, 'Ultraviolet (2006)')]"
      ]
     },
     "execution_count": 107,
     "metadata": {},
     "output_type": "execute_result"
    }
   ],
   "source": [
    "sorted(movie_ratings, key=itemgetter(0))[:15]"
   ]
  },
  {
   "cell_type": "code",
   "execution_count": 108,
   "metadata": {},
   "outputs": [
    {
     "data": {
      "text/plain": [
       "[(1.3042735, \"Nobody's Fool (1994)\"),\n",
       " (1.2928033, 'Inside Job (2010)'),\n",
       " (1.2917132, 'Secrets & Lies (1996)'),\n",
       " (1.2910141, 'Exit Through the Gift Shop (2010)'),\n",
       " (1.2898804, 'Celebration, The (Festen) (1998)'),\n",
       " (1.2895731, 'Longest Day, The (1962)'),\n",
       " (1.2679663, 'Malcolm X (1992)'),\n",
       " (1.2598749, 'Last King of Scotland, The (2006)'),\n",
       " (1.2481248, 'Shawshank Redemption, The (1994)'),\n",
       " (1.2389557, 'Great Escape, The (1963)'),\n",
       " (1.2286648, 'Philadelphia Story, The (1940)'),\n",
       " (1.217912, 'Cinderella Man (2005)'),\n",
       " (1.2147546, 'Creature Comforts (1989)'),\n",
       " (1.2147056, \"All the President's Men (1976)\"),\n",
       " (1.2136106, 'Hustler, The (1961)')]"
      ]
     },
     "execution_count": 108,
     "metadata": {},
     "output_type": "execute_result"
    }
   ],
   "source": [
    "sorted(movie_ratings, key=itemgetter(0), reverse=True)[:15]"
   ]
  },
  {
   "cell_type": "code",
   "execution_count": 24,
   "metadata": {
    "hidden": true
   },
   "outputs": [
    {
     "data": {
      "text/plain": [
       "[(1.7250408, 'Little Big Man (1970)'),\n",
       " (1.7194961, 'Shawshank Redemption, The (1994)'),\n",
       " (1.7044764, \"Howl's Moving Castle (Hauru no ugoku shiro) (2004)\"),\n",
       " (1.7008729, 'Mister Roberts (1955)'),\n",
       " (1.6823107, 'Persuasion (1995)'),\n",
       " (1.6384603, 'Godfather, The (1972)'),\n",
       " (1.6032888, 'Pianist, The (2002)'),\n",
       " (1.5974605, 'Sunset Blvd. (a.k.a. Sunset Boulevard) (1950)'),\n",
       " (1.5918087, 'Jean de Florette (1986)'),\n",
       " (1.5875192, 'Rush (2013)'),\n",
       " (1.5869737, 'Smoke (1995)'),\n",
       " (1.5847712, 'It Happened One Night (1934)'),\n",
       " (1.580586, 'Swingers (1996)'),\n",
       " (1.5783617, 'You Can Count on Me (2000)'),\n",
       " (1.5776982, \"Schindler's List (1993)\")]"
      ]
     },
     "execution_count": 24,
     "metadata": {},
     "output_type": "execute_result"
    }
   ],
   "source": [
    "sorted(movie_ratings, key=itemgetter(0), reverse=True)[:15]"
   ]
  },
  {
   "cell_type": "markdown",
   "metadata": {
    "hidden": true
   },
   "source": [
    "We can now do the same thing for the embeddings."
   ]
  },
  {
   "cell_type": "code",
   "execution_count": 109,
   "metadata": {
    "hidden": true
   },
   "outputs": [
    {
     "data": {
      "text/plain": [
       "(2000, 50)"
      ]
     },
     "execution_count": 109,
     "metadata": {},
     "output_type": "execute_result"
    }
   ],
   "source": [
    "get_movie_emb = Model(movie_in, m)\n",
    "movie_emb = np.squeeze(get_movie_emb.predict([topMovies]))\n",
    "movie_emb.shape"
   ]
  },
  {
   "cell_type": "markdown",
   "metadata": {
    "hidden": true
   },
   "source": [
    "Because it's hard to interpret 50 embeddings, we use [PCA](https://plot.ly/ipython-notebooks/principal-component-analysis/) to simplify them down to just 3 vectors. "
   ]
  },
  {
   "cell_type": "code",
   "execution_count": 110,
   "metadata": {
    "collapsed": true,
    "hidden": true
   },
   "outputs": [],
   "source": [
    "from sklearn.decomposition import PCA\n",
    "pca = PCA(n_components=3)\n",
    "movie_pca = pca.fit(movie_emb.T).components_"
   ]
  },
  {
   "cell_type": "code",
   "execution_count": 111,
   "metadata": {
    "collapsed": true,
    "hidden": true
   },
   "outputs": [],
   "source": [
    "fac0 = movie_pca[0]"
   ]
  },
  {
   "cell_type": "code",
   "execution_count": 112,
   "metadata": {
    "collapsed": true,
    "hidden": true
   },
   "outputs": [],
   "source": [
    "movie_comp = [(f, movie_names[movies[i]]) for f,i in zip(fac0, topMovies)]"
   ]
  },
  {
   "cell_type": "markdown",
   "metadata": {
    "hidden": true
   },
   "source": [
    "Here's the 1st component. It seems to be 'critically acclaimed' or 'classic'."
   ]
  },
  {
   "cell_type": "code",
   "execution_count": 113,
   "metadata": {},
   "outputs": [
    {
     "data": {
      "text/plain": [
       "[(0.060575988, 'Matrix, The (1999)'),\n",
       " (0.056031294, \"Schindler's List (1993)\"),\n",
       " (0.055588353, 'Shawshank Redemption, The (1994)'),\n",
       " (0.055162508, 'Usual Suspects, The (1995)'),\n",
       " (0.054539338, 'Silence of the Lambs, The (1991)'),\n",
       " (0.054070201, 'Star Wars: Episode V - The Empire Strikes Back (1980)'),\n",
       " (0.053944111, 'Pulp Fiction (1994)'),\n",
       " (0.052531797, 'Back to the Future (1985)'),\n",
       " (0.052456915, 'Star Wars: Episode IV - A New Hope (1977)'),\n",
       " (0.051661693, 'Fight Club (1999)')]"
      ]
     },
     "execution_count": 113,
     "metadata": {},
     "output_type": "execute_result"
    }
   ],
   "source": [
    "sorted(movie_comp, key=itemgetter(0), reverse=True)[:10]"
   ]
  },
  {
   "cell_type": "code",
   "execution_count": 33,
   "metadata": {
    "hidden": true
   },
   "outputs": [
    {
     "data": {
      "text/plain": [
       "[(0.08036764, 'Wallace & Gromit: The Wrong Trousers (1993)'),\n",
       " (0.079808839, 'Wallace & Gromit: A Close Shave (1995)'),\n",
       " (0.077548273, 'American Beauty (1999)'),\n",
       " (0.077498004, 'Usual Suspects, The (1995)'),\n",
       " (0.076784886, 'Pulp Fiction (1994)'),\n",
       " (0.075913154, 'Godfather, The (1972)'),\n",
       " (0.075235315, 'Lord of the Rings: The Fellowship of the Ring, The (2001)'),\n",
       " (0.073968366, '2001: A Space Odyssey (1968)'),\n",
       " (0.073819056, 'Toy Story (1995)'),\n",
       " (0.073727958, \"Ferris Bueller's Day Off (1986)\")]"
      ]
     },
     "execution_count": 33,
     "metadata": {},
     "output_type": "execute_result"
    }
   ],
   "source": [
    "sorted(movie_comp, key=itemgetter(0), reverse=True)[:10]"
   ]
  },
  {
   "cell_type": "code",
   "execution_count": 114,
   "metadata": {},
   "outputs": [
    {
     "data": {
      "text/plain": [
       "[(-0.011923173, 'Ice Age: Dawn of the Dinosaurs (2009)'),\n",
       " (-0.010853118, 'Superman IV: The Quest for Peace (1987)'),\n",
       " (-0.010778486, 'Dracula: Dead and Loving It (1995)'),\n",
       " (-0.010598018, 'Inspector Gadget (1999)'),\n",
       " (-0.0090598101, 'Mighty Morphin Power Rangers: The Movie (1995)'),\n",
       " (-0.0086656995, 'Problem Child (1990)'),\n",
       " (-0.0081600314, 'League of Extraordinary Gentlemen, The (a.k.a. LXG) (2003)'),\n",
       " (-0.0077544334, 'Where the Wild Things Are (2009)'),\n",
       " (-0.0077262991, 'Speed 2: Cruise Control (1997)'),\n",
       " (-0.0071204794, 'Blues Brothers 2000 (1998)')]"
      ]
     },
     "execution_count": 114,
     "metadata": {},
     "output_type": "execute_result"
    }
   ],
   "source": [
    "sorted(movie_comp, key=itemgetter(0))[:10]"
   ]
  },
  {
   "cell_type": "code",
   "execution_count": 34,
   "metadata": {
    "hidden": true
   },
   "outputs": [
    {
     "data": {
      "text/plain": [
       "[(-0.058417581, 'Anaconda (1997)'),\n",
       " (-0.046019286, 'Ace Ventura: When Nature Calls (1995)'),\n",
       " (-0.040529612, 'Judge Dredd (1995)'),\n",
       " (-0.038660962, 'Son in Law (1993)'),\n",
       " (-0.038041789, 'RoboCop 3 (1993)'),\n",
       " (-0.036584113, 'Grumpier Old Men (1995)'),\n",
       " (-0.035289925, 'Eraser (1996)'),\n",
       " (-0.034082226, 'Grease 2 (1982)'),\n",
       " (-0.033974353, 'Jack (1996)'),\n",
       " (-0.033512354, 'Police Academy 3: Back in Training (1986)')]"
      ]
     },
     "execution_count": 34,
     "metadata": {},
     "output_type": "execute_result"
    }
   ],
   "source": [
    "sorted(movie_comp, key=itemgetter(0))[:10]"
   ]
  },
  {
   "cell_type": "code",
   "execution_count": 115,
   "metadata": {
    "collapsed": true,
    "hidden": true
   },
   "outputs": [],
   "source": [
    "fac1 = movie_pca[1]"
   ]
  },
  {
   "cell_type": "code",
   "execution_count": 116,
   "metadata": {
    "collapsed": true,
    "hidden": true
   },
   "outputs": [],
   "source": [
    "movie_comp = [(f, movie_names[movies[i]]) for f,i in zip(fac1, topMovies)]"
   ]
  },
  {
   "cell_type": "markdown",
   "metadata": {
    "hidden": true
   },
   "source": [
    "The 2nd is 'hollywood blockbuster'."
   ]
  },
  {
   "cell_type": "code",
   "execution_count": 117,
   "metadata": {},
   "outputs": [
    {
     "data": {
      "text/plain": [
       "[(0.061199587, 'Moonrise Kingdom (2012)'),\n",
       " (0.059803873, 'Annie Hall (1977)'),\n",
       " (0.053842977, 'Magnolia (1999)'),\n",
       " (0.053376932, 'Producers, The (1968)'),\n",
       " (0.052042469, 'Deer Hunter, The (1978)'),\n",
       " (0.05171201, 'Big Lebowski, The (1998)'),\n",
       " (0.051461361, 'Citizen Kane (1941)'),\n",
       " (0.051312193, 'Black Swan (2010)'),\n",
       " (0.05083935, 'Blue Velvet (1986)'),\n",
       " (0.049921371, 'Memento (2000)')]"
      ]
     },
     "execution_count": 117,
     "metadata": {},
     "output_type": "execute_result"
    }
   ],
   "source": [
    "sorted(movie_comp, key=itemgetter(0), reverse=True)[:10]"
   ]
  },
  {
   "cell_type": "code",
   "execution_count": 37,
   "metadata": {
    "hidden": true
   },
   "outputs": [
    {
     "data": {
      "text/plain": [
       "[(0.060503632, 'Harold and Maude (1971)'),\n",
       " (0.054804463, 'Brokeback Mountain (2005)'),\n",
       " (0.052384187, 'City Lights (1931)'),\n",
       " (0.051685318, 'Annie Hall (1977)'),\n",
       " (0.051254459, 'Clockwork Orange, A (1971)'),\n",
       " (0.045334909, \"Rosemary's Baby (1968)\"),\n",
       " (0.044675902, 'Deer Hunter, The (1978)'),\n",
       " (0.042716123, 'Spirited Away (Sen to Chihiro no kamikakushi) (2001)'),\n",
       " (0.041788731, 'Bringing Up Baby (1938)'),\n",
       " (0.041603483, 'Easy Rider (1969)')]"
      ]
     },
     "execution_count": 37,
     "metadata": {},
     "output_type": "execute_result"
    }
   ],
   "source": [
    "sorted(movie_comp, key=itemgetter(0), reverse=True)[:10]"
   ]
  },
  {
   "cell_type": "code",
   "execution_count": 38,
   "metadata": {
    "hidden": true,
    "scrolled": true
   },
   "outputs": [
    {
     "data": {
      "text/plain": [
       "[(-0.094236061, 'Independence Day (a.k.a. ID4) (1996)'),\n",
       " (-0.094174929, 'Titanic (1997)'),\n",
       " (-0.091568619, 'Jurassic Park (1993)'),\n",
       " (-0.09122292, 'Armageddon (1998)'),\n",
       " (-0.089603841, 'Ghost (1990)'),\n",
       " (-0.088665053, 'Shrek (2001)'),\n",
       " (-0.087736182, 'Lord of the Rings: The Two Towers, The (2002)'),\n",
       " (-0.087566942, 'Gladiator (2000)'),\n",
       " (-0.085383952, 'Speed (1994)'),\n",
       " (-0.082565956, 'Star Trek IV: The Voyage Home (1986)')]"
      ]
     },
     "execution_count": 38,
     "metadata": {},
     "output_type": "execute_result"
    }
   ],
   "source": [
    "sorted(movie_comp, key=itemgetter(0))[:10]"
   ]
  },
  {
   "cell_type": "code",
   "execution_count": 120,
   "metadata": {
    "collapsed": true,
    "hidden": true
   },
   "outputs": [],
   "source": [
    "fac2 = movie_pca[2]"
   ]
  },
  {
   "cell_type": "code",
   "execution_count": 40,
   "metadata": {
    "collapsed": true,
    "hidden": true
   },
   "outputs": [],
   "source": [
    "movie_comp = [(f, movie_names[movies[i]]) for f,i in zip(fac2, topMovies)]"
   ]
  },
  {
   "cell_type": "markdown",
   "metadata": {
    "hidden": true
   },
   "source": [
    "The 3rd is 'violent vs happy'."
   ]
  },
  {
   "cell_type": "code",
   "execution_count": 41,
   "metadata": {
    "hidden": true
   },
   "outputs": [
    {
     "data": {
      "text/plain": [
       "[(0.098294519, 'Seven (a.k.a. Se7en) (1995)'),\n",
       " (0.08536391, 'American Psycho (2000)'),\n",
       " (0.079629868,\n",
       "  'L\\xc3\\xa9on: The Professional (a.k.a. The Professional) (L\\xc3\\xa9on) (1994)'),\n",
       " (0.077939048, 'Goonies, The (1985)'),\n",
       " (0.077908911, 'Pulp Fiction (1994)'),\n",
       " (0.076904327, 'Fight Club (1999)'),\n",
       " (0.075976059, 'American Pie (1999)'),\n",
       " (0.075964108, 'Cook the Thief His Wife & Her Lover, The (1989)'),\n",
       " (0.075873129, 'Natural Born Killers (1994)'),\n",
       " (0.074641898, 'Twelve Monkeys (a.k.a. 12 Monkeys) (1995)')]"
      ]
     },
     "execution_count": 41,
     "metadata": {},
     "output_type": "execute_result"
    }
   ],
   "source": [
    "sorted(movie_comp, key=itemgetter(0), reverse=True)[:10]"
   ]
  },
  {
   "cell_type": "code",
   "execution_count": 42,
   "metadata": {
    "hidden": true
   },
   "outputs": [
    {
     "data": {
      "text/plain": [
       "[(-0.10425235, 'Babe (1995)'),\n",
       " (-0.099427424, 'Sleepless in Seattle (1993)'),\n",
       " (-0.096679159, 'Beauty and the Beast (1991)'),\n",
       " (-0.078917101, 'Finding Nemo (2003)'),\n",
       " (-0.072881654, 'Chicken Run (2000)'),\n",
       " (-0.072588563, 'Sabrina (1995)'),\n",
       " (-0.0725106, 'Sling Blade (1996)'),\n",
       " (-0.069847211, 'While You Were Sleeping (1995)'),\n",
       " (-0.067207195, 'Wizard of Oz, The (1939)'),\n",
       " (-0.06691134, 'Snow White and the Seven Dwarfs (1937)')]"
      ]
     },
     "execution_count": 42,
     "metadata": {},
     "output_type": "execute_result"
    }
   ],
   "source": [
    "sorted(movie_comp, key=itemgetter(0))[:10]"
   ]
  },
  {
   "cell_type": "markdown",
   "metadata": {
    "hidden": true
   },
   "source": [
    "We can draw a picture to see how various movies appear on the map of these components. This picture shows the 1st and 3rd components."
   ]
  },
  {
   "cell_type": "code",
   "execution_count": 118,
   "metadata": {
    "collapsed": true,
    "hidden": true
   },
   "outputs": [],
   "source": [
    "reload(sys)\n",
    "sys.setdefaultencoding('utf8')"
   ]
  },
  {
   "cell_type": "code",
   "execution_count": 121,
   "metadata": {
    "hidden": true
   },
   "outputs": [
    {
     "data": {
      "image/png": "[encoded data removed]",
      "text/plain": [
       "<Figure size 1080x1080 with 1 Axes>"
      ]
     },
     "metadata": {},
     "output_type": "display_data"
    }
   ],
   "source": [
    "start=50; end=100\n",
    "X = fac0[start:end]\n",
    "Y = fac2[start:end]\n",
    "plt.figure(figsize=(15,15))\n",
    "plt.scatter(X, Y)\n",
    "\n",
    "for i, x, y in zip(topMovies[start:end], X, Y):\n",
    "    plt.text(x,y,movie_names[movies[i]], color=np.random.rand(3)*0.7, fontsize=14)\n",
    "plt.show()"
   ]
  },
  {
   "cell_type": "markdown",
   "metadata": {},
   "source": [
    "##  Neural net"
   ]
  },
  {
   "cell_type": "markdown",
   "metadata": {},
   "source": [
    "Rather than creating a special purpose architecture (like our dot-product with bias earlier), it's often both easier and more accurate to use a standard neural network. Let's try it! Here, we simply concatenate the user and movie embeddings into a single vector, which we feed into the neural net."
   ]
  },
  {
   "cell_type": "code",
   "execution_count": 125,
   "metadata": {
    "collapsed": true
   },
   "outputs": [],
   "source": [
    "user_in, u = embedding_input('user_in', n_users, n_factors, 1e-4)\n",
    "movie_in, m = embedding_input('movie_in', n_movies, n_factors, 1e-4)"
   ]
  },
  {
   "cell_type": "code",
   "execution_count": 126,
   "metadata": {
    "collapsed": true
   },
   "outputs": [],
   "source": [
    "x = merge([u, m], mode='concat')\n",
    "x = Flatten()(x)\n",
    "x = Dropout(0.3)(x)\n",
    "x = Dense(70, activation='relu')(x)\n",
    "x = Dropout(0.75)(x)\n",
    "x = Dense(1)(x)\n",
    "nn = Model([user_in, movie_in], x)\n",
    "nn.compile(Adam(0.001), loss='mse')"
   ]
  },
  {
   "cell_type": "code",
   "execution_count": 127,
   "metadata": {},
   "outputs": [
    {
     "data": {
      "text/plain": [
       "<keras.callbacks.History at 0x11221f3d0>"
      ]
     },
     "execution_count": 127,
     "metadata": {},
     "output_type": "execute_result"
    }
   ],
   "source": [
    "nn.fit([trn.userId, trn.movieId], trn.rating, batch_size=64, nb_epoch=8, \n",
    "          validation_data=([val.userId, val.movieId], val.rating))"
   ]
  },
  {
   "cell_type": "markdown",
   "metadata": {},
   "source": [
    "This improves on our already impressive accuracy even further!"
   ]
  }
 ],
 "metadata": {
  "kernelspec": {
   "display_name": "Python 2",
   "language": "python",
   "name": "python2"
  },
  "language_info": {
   "codemirror_mode": {
    "name": "ipython",
    "version": 2
   },
   "file_extension": ".py",
   "mimetype": "text/x-python",
   "name": "python",
   "nbconvert_exporter": "python",
   "pygments_lexer": "ipython2",
   "version": "2.7.13"
  }
 },
 "nbformat": 4,
 "nbformat_minor": 1
}
